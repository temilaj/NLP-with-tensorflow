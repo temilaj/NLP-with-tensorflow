{
 "cells": [
  {
   "cell_type": "code",
   "execution_count": 1,
   "metadata": {
    "id": "zX4Kg8DUTKWO"
   },
   "outputs": [],
   "source": [
    "#@title Licensed under the Apache License, Version 2.0 (the \"License\");\n",
    "# you may not use this file except in compliance with the License.\n",
    "# You may obtain a copy of the License at\n",
    "#\n",
    "# https://www.apache.org/licenses/LICENSE-2.0\n",
    "#\n",
    "# Unless required by applicable law or agreed to in writing, software\n",
    "# distributed under the License is distributed on an \"AS IS\" BASIS,\n",
    "# WITHOUT WARRANTIES OR CONDITIONS OF ANY KIND, either express or implied.\n",
    "# See the License for the specific language governing permissions and\n",
    "# limitations under the License."
   ]
  },
  {
   "cell_type": "markdown",
   "metadata": {
    "id": "rFiCyWQ-NC5D"
   },
   "source": [
    "# Multiple Layer GRU vs Conv"
   ]
  },
  {
   "cell_type": "code",
   "execution_count": 2,
   "metadata": {
    "colab": {
     "base_uri": "https://localhost:8080/"
    },
    "id": "Y20Lud2ZMBhW",
    "outputId": "36329674-5afd-41eb-e160-34706b49f707"
   },
   "outputs": [
    {
     "name": "stdout",
     "output_type": "stream",
     "text": [
      "2.4.1\n"
     ]
    }
   ],
   "source": [
    "from __future__ import absolute_import, division, print_function, unicode_literals\n",
    "\n",
    "\n",
    "import tensorflow_datasets as tfds\n",
    "import tensorflow as tf\n",
    "print(tf.__version__)"
   ]
  },
  {
   "cell_type": "code",
   "execution_count": 3,
   "metadata": {
    "colab": {
     "base_uri": "https://localhost:8080/",
     "height": 367,
     "referenced_widgets": [
      "1a4fdd62fcd24cb0af288ff611225a0c",
      "b7d6e062dd2848e0b943bfb55627a8d6",
      "36831bd9c83d43f98f2ea9c9dce59032",
      "032b7571199949b2a36c7db85b0eb207",
      "4aad733d48374299a1152c1d9aec13ce",
      "2677807160834decaddcf85dcabdfe60",
      "a9e4dcdaf5f543a88b29828eb9be4b40",
      "c733573ff0c344fd9030605e0005f616",
      "96987c93d81044429e6cd7b41ac92473",
      "5f76f00b28ee4403838b8bb9157fed11",
      "86fb6d34375b463dad724b3df33c6e89",
      "ea08ddc65b2f4ea59c4d6414b9b9beae",
      "0deee575486f4fa8806c18e95fdc860d",
      "5058ea222cad47b781075d550e499325",
      "54549db5847b421b82eef693869bc691",
      "736f9aa600564801bb69c7afdb75e281",
      "510ba64266bf4f0197d19e3854471a47",
      "00e395f42af74b66a8a7a0bb4b0674db",
      "fe4868ef2d464d2891f7f9882cbc4d09",
      "783439a75cc645f58a4af1ae08ea106c",
      "d92fdf4205ce40d5adfe93dd1a8ecb3d",
      "a534a3b11d394cc380aa648799008e65",
      "3fed3f54ad594979b7f71161624042b7",
      "1f3939a7e75e4ce6a53e45210a7d38ea",
      "28e646b8fa324c27abc4a7da94aa9b2e",
      "4ef54103581440d5895177ea35e15c42",
      "65a7797edc194c0a96bd2a2bd902e16c",
      "bcdea7a7a8eb4a74adc7feb3209f034c",
      "b7444070b05f41d78a73a98e1c43624c",
      "143a1d7fd93b487993bb81af76e699e6",
      "8dfc8513425f4812b83a80a1deceaa6d",
      "6a95ae8ddb4f474cab645bee1e961eb9",
      "859ec49ed8634abb98232b612a99d486",
      "ec26a614d7c24cab8cf68904a9138c80",
      "57826a896aed428e8b68d35ba8452260",
      "a083d0554fe44ce5ba24742359eae535",
      "d294b97cde9a432d9c76342b9af3be2e",
      "f9a6622dd5b14649994a70bba6193022",
      "310fb1482c3a4d2fbef86cbe052a429f",
      "468594cc68e34770906859dd1324d402",
      "fae1f0bb07d44439a343803337e494f8",
      "7ae9db2d7f3946dd9f907fbe87748939",
      "b31a2ff476a743ff8e05aca22d4fd3aa",
      "05731893282445a7986a40a3c261e214",
      "65c0354ca83d422196d61e54d2f660ea",
      "2e0c37a96d0448dfaf61537f4748b9ee",
      "0f8ede38aca0495eaef6df7cd1a0890d",
      "c26d3e218db643439bb1ccb54b03fe88",
      "1e9622bc829f4e9d9584cb5ddafe6f5b",
      "13a72df19c0e4e1c9410b9c937e51847",
      "cbd018465acd4744b4dd8c5bcf607351",
      "b328cc3bee394384a2d3cd4aeb621ae5",
      "e0ba46a58d424b329f3b1a7326d12541",
      "f75d9d482b844c8089c20134f4d2e004",
      "c7d4e20844a5465a9af21e33d50f6e46",
      "8afaef2a9be54f7d9e840d0d6a7b5285",
      "7b35e7c42f1a4e00820c80566afdfad1",
      "0b57e2596a484338883f037fb8bfe56a",
      "f0a11174ebc2419080c8b5e8e20ef22e",
      "433e7c20a3924ae8a547b43c5b697fa8",
      "cd26055c54384a5998a3a7167c1222d3",
      "ff383086bee74a72aa8af2eded8b1160",
      "47b52df01f704acf938136fe9795ca43",
      "c02f64e2c14b46d2b36343ba025ef2d9"
     ]
    },
    "id": "AW-4Vo4TMUHb",
    "outputId": "4fa6ea5e-9bb3-426f-af87-7370e488ff8d"
   },
   "outputs": [
    {
     "name": "stdout",
     "output_type": "stream",
     "text": [
      "\u001b[1mDownloading and preparing dataset imdb_reviews/plain_text/1.0.0 (download: 80.23 MiB, generated: Unknown size, total: 80.23 MiB) to /root/tensorflow_datasets/imdb_reviews/plain_text/1.0.0...\u001b[0m\n"
     ]
    },
    {
     "data": {
      "application/vnd.jupyter.widget-view+json": {
       "model_id": "1a4fdd62fcd24cb0af288ff611225a0c",
       "version_major": 2,
       "version_minor": 0
      },
      "text/plain": [
       "HBox(children=(FloatProgress(value=1.0, bar_style='info', description='Dl Completed...', max=1.0, style=Progre…"
      ]
     },
     "metadata": {
      "tags": []
     },
     "output_type": "display_data"
    },
    {
     "data": {
      "application/vnd.jupyter.widget-view+json": {
       "model_id": "96987c93d81044429e6cd7b41ac92473",
       "version_major": 2,
       "version_minor": 0
      },
      "text/plain": [
       "HBox(children=(FloatProgress(value=1.0, bar_style='info', description='Dl Size...', max=1.0, style=ProgressSty…"
      ]
     },
     "metadata": {
      "tags": []
     },
     "output_type": "display_data"
    },
    {
     "name": "stdout",
     "output_type": "stream",
     "text": [
      "\n",
      "\n",
      "\n",
      "\n"
     ]
    },
    {
     "data": {
      "application/vnd.jupyter.widget-view+json": {
       "model_id": "510ba64266bf4f0197d19e3854471a47",
       "version_major": 2,
       "version_minor": 0
      },
      "text/plain": [
       "HBox(children=(FloatProgress(value=1.0, bar_style='info', max=1.0), HTML(value='')))"
      ]
     },
     "metadata": {
      "tags": []
     },
     "output_type": "display_data"
    },
    {
     "name": "stdout",
     "output_type": "stream",
     "text": [
      "\r",
      "Shuffling and writing examples to /root/tensorflow_datasets/imdb_reviews/plain_text/1.0.0.incomplete8F6R7C/imdb_reviews-train.tfrecord\n"
     ]
    },
    {
     "data": {
      "application/vnd.jupyter.widget-view+json": {
       "model_id": "28e646b8fa324c27abc4a7da94aa9b2e",
       "version_major": 2,
       "version_minor": 0
      },
      "text/plain": [
       "HBox(children=(FloatProgress(value=0.0, max=25000.0), HTML(value='')))"
      ]
     },
     "metadata": {
      "tags": []
     },
     "output_type": "display_data"
    },
    {
     "name": "stdout",
     "output_type": "stream",
     "text": [
      "\r"
     ]
    },
    {
     "data": {
      "application/vnd.jupyter.widget-view+json": {
       "model_id": "859ec49ed8634abb98232b612a99d486",
       "version_major": 2,
       "version_minor": 0
      },
      "text/plain": [
       "HBox(children=(FloatProgress(value=1.0, bar_style='info', max=1.0), HTML(value='')))"
      ]
     },
     "metadata": {
      "tags": []
     },
     "output_type": "display_data"
    },
    {
     "name": "stdout",
     "output_type": "stream",
     "text": [
      "\r",
      "Shuffling and writing examples to /root/tensorflow_datasets/imdb_reviews/plain_text/1.0.0.incomplete8F6R7C/imdb_reviews-test.tfrecord\n"
     ]
    },
    {
     "data": {
      "application/vnd.jupyter.widget-view+json": {
       "model_id": "fae1f0bb07d44439a343803337e494f8",
       "version_major": 2,
       "version_minor": 0
      },
      "text/plain": [
       "HBox(children=(FloatProgress(value=0.0, max=25000.0), HTML(value='')))"
      ]
     },
     "metadata": {
      "tags": []
     },
     "output_type": "display_data"
    },
    {
     "name": "stdout",
     "output_type": "stream",
     "text": [
      "\r"
     ]
    },
    {
     "data": {
      "application/vnd.jupyter.widget-view+json": {
       "model_id": "1e9622bc829f4e9d9584cb5ddafe6f5b",
       "version_major": 2,
       "version_minor": 0
      },
      "text/plain": [
       "HBox(children=(FloatProgress(value=1.0, bar_style='info', max=1.0), HTML(value='')))"
      ]
     },
     "metadata": {
      "tags": []
     },
     "output_type": "display_data"
    },
    {
     "name": "stdout",
     "output_type": "stream",
     "text": [
      "\r",
      "Shuffling and writing examples to /root/tensorflow_datasets/imdb_reviews/plain_text/1.0.0.incomplete8F6R7C/imdb_reviews-unsupervised.tfrecord\n"
     ]
    },
    {
     "data": {
      "application/vnd.jupyter.widget-view+json": {
       "model_id": "7b35e7c42f1a4e00820c80566afdfad1",
       "version_major": 2,
       "version_minor": 0
      },
      "text/plain": [
       "HBox(children=(FloatProgress(value=0.0, max=50000.0), HTML(value='')))"
      ]
     },
     "metadata": {
      "tags": []
     },
     "output_type": "display_data"
    },
    {
     "name": "stderr",
     "output_type": "stream",
     "text": [
      "WARNING:absl:Dataset is using deprecated text encoder API which will be removed soon. Please use the plain_text version of the dataset and migrate to `tensorflow_text`.\n"
     ]
    },
    {
     "name": "stdout",
     "output_type": "stream",
     "text": [
      "\u001b[1mDataset imdb_reviews downloaded and prepared to /root/tensorflow_datasets/imdb_reviews/plain_text/1.0.0. Subsequent calls will reuse this data.\u001b[0m\n",
      "\r"
     ]
    }
   ],
   "source": [
    "# Get the data\n",
    "imdb, info = tfds.load(\"imdb_reviews\", with_info=True, as_supervised=True)"
   ]
  },
  {
   "cell_type": "code",
   "execution_count": 4,
   "metadata": {
    "id": "L11bIR6-PKvs"
   },
   "outputs": [],
   "source": [
    "import numpy as np\n",
    "\n",
    "train_data, test_data = imdb['train'], imdb['test']\n",
    "\n",
    "training_sentences = []\n",
    "training_labels = []\n",
    "\n",
    "testing_sentences = []\n",
    "testing_labels = []\n",
    "\n",
    "# str(s.tonumpy()) is needed in Python3 instead of just s.numpy()\n",
    "for s,l in train_data:\n",
    "  training_sentences.append(s.numpy().decode('utf8'))\n",
    "  training_labels.append(l.numpy())\n",
    "  \n",
    "for s,l in test_data:\n",
    "  testing_sentences.append(s.numpy().decode('utf8'))\n",
    "  testing_labels.append(l.numpy())\n",
    "  \n",
    "training_labels_final = np.array(training_labels)\n",
    "testing_labels_final = np.array(testing_labels)"
   ]
  },
  {
   "cell_type": "code",
   "execution_count": 5,
   "metadata": {
    "id": "ffvRUI0_McDS"
   },
   "outputs": [],
   "source": [
    "vocab_size = 10000\n",
    "embedding_dim = 16\n",
    "max_length = 120\n",
    "trunc_type='post'\n",
    "oov_tok = \"<OOV>\"\n",
    "\n",
    "\n",
    "from tensorflow.keras.preprocessing.text import Tokenizer\n",
    "from tensorflow.keras.preprocessing.sequence import pad_sequences\n",
    "\n",
    "tokenizer = Tokenizer(num_words = vocab_size, oov_token=oov_tok)\n",
    "tokenizer.fit_on_texts(training_sentences)\n",
    "word_index = tokenizer.word_index\n",
    "sequences = tokenizer.texts_to_sequences(training_sentences)\n",
    "padded = pad_sequences(sequences,maxlen=max_length, truncating=trunc_type)\n",
    "\n",
    "# note that the testing sequences are tokenized from the words learned in the training words\n",
    "testing_sequences = tokenizer.texts_to_sequences(testing_sentences)\n",
    "testing_padded = pad_sequences(testing_sequences,maxlen=max_length)"
   ]
  },
  {
   "cell_type": "code",
   "execution_count": 6,
   "metadata": {
    "colab": {
     "base_uri": "https://localhost:8080/"
    },
    "id": "lap9PT4PMpT4",
    "outputId": "0aee787a-4418-4e11-b9ce-2840f379dda5"
   },
   "outputs": [
    {
     "name": "stdout",
     "output_type": "stream",
     "text": [
      "? ? ? ? ? ? ? ? ? ? ? ? ? ? ? ? ? ? ? ? ? ? ? ? ? ? ? ? ? ? ? this is the kind of film for a snowy sunday afternoon when the rest of the world can go ahead with its own business as you <OOV> into a big arm chair and <OOV> for a couple of hours wonderful performances from cher and nicolas cage as always gently row the plot along there are no <OOV> to cross no dangerous waters just a warm and witty <OOV> through new york life at its best a family film in every sense and one that deserves the praise it received\n",
      "This is the kind of film for a snowy Sunday afternoon when the rest of the world can go ahead with its own business as you descend into a big arm-chair and mellow for a couple of hours. Wonderful performances from Cher and Nicolas Cage (as always) gently row the plot along. There are no rapids to cross, no dangerous waters, just a warm and witty paddle through New York life at its best. A family film in every sense and one that deserves the praise it received.\n"
     ]
    }
   ],
   "source": [
    "reverse_word_index = dict([(value, key) for (key, value) in word_index.items()])\n",
    "\n",
    "def decode_review(text):\n",
    "    return ' '.join([reverse_word_index.get(i, '?') for i in text])\n",
    "\n",
    "print(decode_review(padded[3]))\n",
    "print(training_sentences[3])"
   ]
  },
  {
   "cell_type": "markdown",
   "metadata": {
    "id": "czZxmaGkJo9K"
   },
   "source": [
    "## Basic NN"
   ]
  },
  {
   "cell_type": "code",
   "execution_count": 7,
   "metadata": {
    "id": "2S_O2lG1JvqW"
   },
   "outputs": [],
   "source": [
    "base_model = tf.keras.Sequential([\n",
    "    tf.keras.layers.Embedding(vocab_size, embedding_dim, input_length=max_length),\n",
    "    tf.keras.layers.Flatten(),\n",
    "    tf.keras.layers.Dense(6, activation='relu'),\n",
    "    tf.keras.layers.Dense(1, activation='sigmoid')\n",
    "])"
   ]
  },
  {
   "cell_type": "code",
   "execution_count": 8,
   "metadata": {
    "colab": {
     "base_uri": "https://localhost:8080/"
    },
    "id": "Ib23Vr-uJvqX",
    "outputId": "93e52160-6970-4b41-8384-3cfab34dfdbe"
   },
   "outputs": [
    {
     "name": "stdout",
     "output_type": "stream",
     "text": [
      "Model: \"sequential\"\n",
      "_________________________________________________________________\n",
      "Layer (type)                 Output Shape              Param #   \n",
      "=================================================================\n",
      "embedding (Embedding)        (None, 120, 16)           160000    \n",
      "_________________________________________________________________\n",
      "flatten (Flatten)            (None, 1920)              0         \n",
      "_________________________________________________________________\n",
      "dense (Dense)                (None, 6)                 11526     \n",
      "_________________________________________________________________\n",
      "dense_1 (Dense)              (None, 1)                 7         \n",
      "=================================================================\n",
      "Total params: 171,533\n",
      "Trainable params: 171,533\n",
      "Non-trainable params: 0\n",
      "_________________________________________________________________\n"
     ]
    }
   ],
   "source": [
    "base_model.summary()"
   ]
  },
  {
   "cell_type": "code",
   "execution_count": 9,
   "metadata": {
    "id": "dUGjRcDGJvqX"
   },
   "outputs": [],
   "source": [
    "base_model.compile(loss='binary_crossentropy', optimizer='adam', metrics=['accuracy'])"
   ]
  },
  {
   "cell_type": "code",
   "execution_count": 11,
   "metadata": {
    "colab": {
     "base_uri": "https://localhost:8080/"
    },
    "id": "EcgPltQmKg-X",
    "outputId": "3527167f-a1a2-4a5e-ed85-11c6e10ee76d"
   },
   "outputs": [
    {
     "name": "stdout",
     "output_type": "stream",
     "text": [
      "Epoch 1/50\n",
      "782/782 [==============================] - 8s 6ms/step - loss: 0.5966 - accuracy: 0.6452 - val_loss: 0.3409 - val_accuracy: 0.8496\n",
      "Epoch 2/50\n",
      "782/782 [==============================] - 5s 6ms/step - loss: 0.2419 - accuracy: 0.9077 - val_loss: 0.3711 - val_accuracy: 0.8397\n",
      "Epoch 3/50\n",
      "782/782 [==============================] - 5s 6ms/step - loss: 0.0920 - accuracy: 0.9783 - val_loss: 0.4549 - val_accuracy: 0.8261\n",
      "Epoch 4/50\n",
      "782/782 [==============================] - 5s 6ms/step - loss: 0.0234 - accuracy: 0.9978 - val_loss: 0.5346 - val_accuracy: 0.8247\n",
      "Epoch 5/50\n",
      "782/782 [==============================] - 5s 6ms/step - loss: 0.0060 - accuracy: 0.9996 - val_loss: 0.6009 - val_accuracy: 0.8255\n",
      "Epoch 6/50\n",
      "782/782 [==============================] - 5s 6ms/step - loss: 0.0021 - accuracy: 1.0000 - val_loss: 0.6481 - val_accuracy: 0.8283\n",
      "Epoch 7/50\n",
      "782/782 [==============================] - 5s 6ms/step - loss: 9.2250e-04 - accuracy: 1.0000 - val_loss: 0.6921 - val_accuracy: 0.8296\n",
      "Epoch 8/50\n",
      "782/782 [==============================] - 5s 6ms/step - loss: 4.8071e-04 - accuracy: 1.0000 - val_loss: 0.7307 - val_accuracy: 0.8296\n",
      "Epoch 9/50\n",
      "782/782 [==============================] - 5s 6ms/step - loss: 2.7998e-04 - accuracy: 1.0000 - val_loss: 0.7690 - val_accuracy: 0.8298\n",
      "Epoch 10/50\n",
      "782/782 [==============================] - 5s 6ms/step - loss: 1.7338e-04 - accuracy: 1.0000 - val_loss: 0.8077 - val_accuracy: 0.8299\n",
      "Epoch 11/50\n",
      "782/782 [==============================] - 5s 6ms/step - loss: 1.0168e-04 - accuracy: 1.0000 - val_loss: 0.8427 - val_accuracy: 0.8294\n",
      "Epoch 12/50\n",
      "782/782 [==============================] - 5s 6ms/step - loss: 6.2481e-05 - accuracy: 1.0000 - val_loss: 0.8786 - val_accuracy: 0.8291\n",
      "Epoch 13/50\n",
      "782/782 [==============================] - 5s 6ms/step - loss: 3.9631e-05 - accuracy: 1.0000 - val_loss: 0.9149 - val_accuracy: 0.8300\n",
      "Epoch 14/50\n",
      "782/782 [==============================] - 5s 6ms/step - loss: 2.4627e-05 - accuracy: 1.0000 - val_loss: 0.9491 - val_accuracy: 0.8295\n",
      "Epoch 15/50\n",
      "782/782 [==============================] - 5s 6ms/step - loss: 1.5189e-05 - accuracy: 1.0000 - val_loss: 0.9841 - val_accuracy: 0.8292\n",
      "Epoch 16/50\n",
      "782/782 [==============================] - 5s 6ms/step - loss: 1.0273e-05 - accuracy: 1.0000 - val_loss: 1.0187 - val_accuracy: 0.8292\n",
      "Epoch 17/50\n",
      "782/782 [==============================] - 5s 6ms/step - loss: 6.6295e-06 - accuracy: 1.0000 - val_loss: 1.0534 - val_accuracy: 0.8292\n",
      "Epoch 18/50\n",
      "782/782 [==============================] - 5s 6ms/step - loss: 3.9710e-06 - accuracy: 1.0000 - val_loss: 1.0866 - val_accuracy: 0.8291\n",
      "Epoch 19/50\n",
      "782/782 [==============================] - 5s 6ms/step - loss: 2.6172e-06 - accuracy: 1.0000 - val_loss: 1.1211 - val_accuracy: 0.8295\n",
      "Epoch 20/50\n",
      "782/782 [==============================] - 5s 6ms/step - loss: 1.6441e-06 - accuracy: 1.0000 - val_loss: 1.1547 - val_accuracy: 0.8296\n",
      "Epoch 21/50\n",
      "782/782 [==============================] - 5s 6ms/step - loss: 1.0901e-06 - accuracy: 1.0000 - val_loss: 1.1881 - val_accuracy: 0.8297\n",
      "Epoch 22/50\n",
      "782/782 [==============================] - 5s 6ms/step - loss: 6.9681e-07 - accuracy: 1.0000 - val_loss: 1.2197 - val_accuracy: 0.8290\n",
      "Epoch 23/50\n",
      "782/782 [==============================] - 5s 6ms/step - loss: 4.6777e-07 - accuracy: 1.0000 - val_loss: 1.2528 - val_accuracy: 0.8292\n",
      "Epoch 24/50\n",
      "782/782 [==============================] - 5s 6ms/step - loss: 3.0705e-07 - accuracy: 1.0000 - val_loss: 1.2848 - val_accuracy: 0.8293\n",
      "Epoch 25/50\n",
      "782/782 [==============================] - 5s 6ms/step - loss: 2.0502e-07 - accuracy: 1.0000 - val_loss: 1.3151 - val_accuracy: 0.8292\n",
      "Epoch 26/50\n",
      "782/782 [==============================] - 5s 6ms/step - loss: 1.3644e-07 - accuracy: 1.0000 - val_loss: 1.3469 - val_accuracy: 0.8294\n",
      "Epoch 27/50\n",
      "782/782 [==============================] - 5s 6ms/step - loss: 9.6671e-08 - accuracy: 1.0000 - val_loss: 1.3776 - val_accuracy: 0.8294\n",
      "Epoch 28/50\n",
      "782/782 [==============================] - 5s 6ms/step - loss: 6.6296e-08 - accuracy: 1.0000 - val_loss: 1.4064 - val_accuracy: 0.8294\n",
      "Epoch 29/50\n",
      "782/782 [==============================] - 5s 6ms/step - loss: 4.5911e-08 - accuracy: 1.0000 - val_loss: 1.4333 - val_accuracy: 0.8293\n",
      "Epoch 30/50\n",
      "782/782 [==============================] - 5s 6ms/step - loss: 3.2854e-08 - accuracy: 1.0000 - val_loss: 1.4619 - val_accuracy: 0.8296\n",
      "Epoch 31/50\n",
      "782/782 [==============================] - 5s 6ms/step - loss: 2.3787e-08 - accuracy: 1.0000 - val_loss: 1.4877 - val_accuracy: 0.8295\n",
      "Epoch 32/50\n",
      "782/782 [==============================] - 5s 6ms/step - loss: 1.7054e-08 - accuracy: 1.0000 - val_loss: 1.5131 - val_accuracy: 0.8297\n",
      "Epoch 33/50\n",
      "782/782 [==============================] - 5s 6ms/step - loss: 1.2841e-08 - accuracy: 1.0000 - val_loss: 1.5386 - val_accuracy: 0.8290\n",
      "Epoch 34/50\n",
      "782/782 [==============================] - 5s 6ms/step - loss: 1.0065e-08 - accuracy: 1.0000 - val_loss: 1.5581 - val_accuracy: 0.8290\n",
      "Epoch 35/50\n",
      "782/782 [==============================] - 5s 6ms/step - loss: 8.0839e-09 - accuracy: 1.0000 - val_loss: 1.5796 - val_accuracy: 0.8288\n",
      "Epoch 36/50\n",
      "782/782 [==============================] - 5s 6ms/step - loss: 7.1127e-04 - accuracy: 0.9998 - val_loss: 1.9793 - val_accuracy: 0.8045\n",
      "Epoch 37/50\n",
      "782/782 [==============================] - 5s 6ms/step - loss: 0.0070 - accuracy: 0.9977 - val_loss: 1.9514 - val_accuracy: 0.8080\n",
      "Epoch 38/50\n",
      "782/782 [==============================] - 5s 6ms/step - loss: 2.7522e-04 - accuracy: 1.0000 - val_loss: 2.0139 - val_accuracy: 0.8085\n",
      "Epoch 39/50\n",
      "782/782 [==============================] - 5s 6ms/step - loss: 2.1205e-04 - accuracy: 1.0000 - val_loss: 1.9485 - val_accuracy: 0.8124\n",
      "Epoch 40/50\n",
      "782/782 [==============================] - 5s 6ms/step - loss: 1.7102e-06 - accuracy: 1.0000 - val_loss: 1.9483 - val_accuracy: 0.8114\n",
      "Epoch 41/50\n",
      "782/782 [==============================] - 5s 6ms/step - loss: 6.1964e-07 - accuracy: 1.0000 - val_loss: 1.9489 - val_accuracy: 0.8115\n",
      "Epoch 42/50\n",
      "782/782 [==============================] - 5s 6ms/step - loss: 5.3236e-07 - accuracy: 1.0000 - val_loss: 1.9497 - val_accuracy: 0.8115\n",
      "Epoch 43/50\n",
      "782/782 [==============================] - 5s 6ms/step - loss: 4.5178e-07 - accuracy: 1.0000 - val_loss: 1.9505 - val_accuracy: 0.8113\n",
      "Epoch 44/50\n",
      "782/782 [==============================] - 5s 7ms/step - loss: 3.3115e-07 - accuracy: 1.0000 - val_loss: 1.9514 - val_accuracy: 0.8112\n",
      "Epoch 45/50\n",
      "782/782 [==============================] - 5s 6ms/step - loss: 2.9436e-07 - accuracy: 1.0000 - val_loss: 1.9524 - val_accuracy: 0.8113\n",
      "Epoch 46/50\n",
      "782/782 [==============================] - 5s 6ms/step - loss: 2.2628e-07 - accuracy: 1.0000 - val_loss: 1.9534 - val_accuracy: 0.8115\n",
      "Epoch 47/50\n",
      "782/782 [==============================] - 5s 6ms/step - loss: 1.8925e-07 - accuracy: 1.0000 - val_loss: 1.9545 - val_accuracy: 0.8114\n",
      "Epoch 48/50\n",
      "782/782 [==============================] - 5s 6ms/step - loss: 1.5776e-07 - accuracy: 1.0000 - val_loss: 1.9557 - val_accuracy: 0.8113\n",
      "Epoch 49/50\n",
      "782/782 [==============================] - 5s 6ms/step - loss: 1.2956e-07 - accuracy: 1.0000 - val_loss: 1.9571 - val_accuracy: 0.8115\n",
      "Epoch 50/50\n",
      "782/782 [==============================] - 5s 6ms/step - loss: 1.1143e-07 - accuracy: 1.0000 - val_loss: 1.9585 - val_accuracy: 0.8117\n"
     ]
    }
   ],
   "source": [
    "num_epochs = 50\n",
    "base_history = base_model.fit(padded, training_labels_final, epochs=num_epochs, validation_data=(testing_padded, testing_labels_final))"
   ]
  },
  {
   "cell_type": "markdown",
   "metadata": {
    "id": "fgdIzXejJ3xD"
   },
   "source": [
    "## Conv1D"
   ]
  },
  {
   "cell_type": "code",
   "execution_count": 12,
   "metadata": {
    "id": "jo1jjO3vn0jo"
   },
   "outputs": [],
   "source": [
    "conv_model = tf.keras.Sequential([\n",
    "    tf.keras.layers.Embedding(vocab_size, embedding_dim, input_length=max_length),\n",
    "    tf.keras.layers.Conv1D(128, 5, activation='relu'),\n",
    "    tf.keras.layers.GlobalAveragePooling1D(),\n",
    "    tf.keras.layers.Dense(6, activation='relu'),\n",
    "    tf.keras.layers.Dense(1, activation='sigmoid')\n",
    "])"
   ]
  },
  {
   "cell_type": "code",
   "execution_count": 13,
   "metadata": {
    "colab": {
     "base_uri": "https://localhost:8080/"
    },
    "id": "QKI5dfPgMioL",
    "outputId": "356e1013-b916-4711-bd44-671ea3e564f7"
   },
   "outputs": [
    {
     "name": "stdout",
     "output_type": "stream",
     "text": [
      "Model: \"sequential_1\"\n",
      "_________________________________________________________________\n",
      "Layer (type)                 Output Shape              Param #   \n",
      "=================================================================\n",
      "embedding_1 (Embedding)      (None, 120, 16)           160000    \n",
      "_________________________________________________________________\n",
      "conv1d (Conv1D)              (None, 116, 128)          10368     \n",
      "_________________________________________________________________\n",
      "global_average_pooling1d (Gl (None, 128)               0         \n",
      "_________________________________________________________________\n",
      "dense_2 (Dense)              (None, 6)                 774       \n",
      "_________________________________________________________________\n",
      "dense_3 (Dense)              (None, 1)                 7         \n",
      "=================================================================\n",
      "Total params: 171,149\n",
      "Trainable params: 171,149\n",
      "Non-trainable params: 0\n",
      "_________________________________________________________________\n"
     ]
    }
   ],
   "source": [
    "conv_model.summary()"
   ]
  },
  {
   "cell_type": "code",
   "execution_count": 14,
   "metadata": {
    "id": "Uip7QOVzMoMq"
   },
   "outputs": [],
   "source": [
    "conv_model.compile(loss='binary_crossentropy', optimizer='adam', metrics=['accuracy'])"
   ]
  },
  {
   "cell_type": "code",
   "execution_count": 15,
   "metadata": {
    "colab": {
     "base_uri": "https://localhost:8080/"
    },
    "id": "ixMQ-CCcKfUZ",
    "outputId": "d38ae716-1c1e-4e30-bf47-29be3d2a61ec"
   },
   "outputs": [
    {
     "name": "stdout",
     "output_type": "stream",
     "text": [
      "Epoch 1/50\n",
      "782/782 [==============================] - 36s 8ms/step - loss: 0.5423 - accuracy: 0.7048 - val_loss: 0.3486 - val_accuracy: 0.8474\n",
      "Epoch 2/50\n",
      "782/782 [==============================] - 6s 7ms/step - loss: 0.2699 - accuracy: 0.8924 - val_loss: 0.3559 - val_accuracy: 0.8460\n",
      "Epoch 3/50\n",
      "782/782 [==============================] - 6s 8ms/step - loss: 0.2073 - accuracy: 0.9225 - val_loss: 0.3950 - val_accuracy: 0.8363\n",
      "Epoch 4/50\n",
      "782/782 [==============================] - 6s 8ms/step - loss: 0.1744 - accuracy: 0.9383 - val_loss: 0.4180 - val_accuracy: 0.8312\n",
      "Epoch 5/50\n",
      "782/782 [==============================] - 6s 8ms/step - loss: 0.1361 - accuracy: 0.9562 - val_loss: 0.4765 - val_accuracy: 0.8232\n",
      "Epoch 6/50\n",
      "782/782 [==============================] - 6s 8ms/step - loss: 0.1099 - accuracy: 0.9655 - val_loss: 0.5228 - val_accuracy: 0.8175\n",
      "Epoch 7/50\n",
      "782/782 [==============================] - 6s 8ms/step - loss: 0.0860 - accuracy: 0.9754 - val_loss: 0.6167 - val_accuracy: 0.8150\n",
      "Epoch 8/50\n",
      "782/782 [==============================] - 6s 8ms/step - loss: 0.0683 - accuracy: 0.9819 - val_loss: 0.7369 - val_accuracy: 0.8070\n",
      "Epoch 9/50\n",
      "782/782 [==============================] - 6s 7ms/step - loss: 0.0484 - accuracy: 0.9878 - val_loss: 0.8554 - val_accuracy: 0.7974\n",
      "Epoch 10/50\n",
      "782/782 [==============================] - 6s 8ms/step - loss: 0.0392 - accuracy: 0.9906 - val_loss: 0.9216 - val_accuracy: 0.8046\n",
      "Epoch 11/50\n",
      "782/782 [==============================] - 6s 8ms/step - loss: 0.0313 - accuracy: 0.9921 - val_loss: 0.9866 - val_accuracy: 0.8033\n",
      "Epoch 12/50\n",
      "782/782 [==============================] - 6s 8ms/step - loss: 0.0218 - accuracy: 0.9957 - val_loss: 1.1575 - val_accuracy: 0.8022\n",
      "Epoch 13/50\n",
      "782/782 [==============================] - 6s 8ms/step - loss: 0.0172 - accuracy: 0.9955 - val_loss: 1.2224 - val_accuracy: 0.7994\n",
      "Epoch 14/50\n",
      "782/782 [==============================] - 6s 8ms/step - loss: 0.0167 - accuracy: 0.9949 - val_loss: 1.2555 - val_accuracy: 0.7984\n",
      "Epoch 15/50\n",
      "782/782 [==============================] - 6s 8ms/step - loss: 0.0167 - accuracy: 0.9946 - val_loss: 1.3308 - val_accuracy: 0.8002\n",
      "Epoch 16/50\n",
      "782/782 [==============================] - 6s 7ms/step - loss: 0.0097 - accuracy: 0.9973 - val_loss: 1.5377 - val_accuracy: 0.7988\n",
      "Epoch 17/50\n",
      "782/782 [==============================] - 6s 7ms/step - loss: 0.0067 - accuracy: 0.9979 - val_loss: 1.7140 - val_accuracy: 0.7931\n",
      "Epoch 18/50\n",
      "782/782 [==============================] - 6s 8ms/step - loss: 0.0059 - accuracy: 0.9984 - val_loss: 1.8451 - val_accuracy: 0.8023\n",
      "Epoch 19/50\n",
      "782/782 [==============================] - 6s 8ms/step - loss: 0.0095 - accuracy: 0.9965 - val_loss: 1.8411 - val_accuracy: 0.7950\n",
      "Epoch 20/50\n",
      "782/782 [==============================] - 6s 8ms/step - loss: 0.0090 - accuracy: 0.9961 - val_loss: 1.8258 - val_accuracy: 0.7958\n",
      "Epoch 21/50\n",
      "782/782 [==============================] - 6s 7ms/step - loss: 0.0083 - accuracy: 0.9970 - val_loss: 1.8989 - val_accuracy: 0.7959\n",
      "Epoch 22/50\n",
      "782/782 [==============================] - 6s 7ms/step - loss: 0.0035 - accuracy: 0.9991 - val_loss: 2.0474 - val_accuracy: 0.7984\n",
      "Epoch 23/50\n",
      "782/782 [==============================] - 6s 7ms/step - loss: 0.0035 - accuracy: 0.9988 - val_loss: 2.0639 - val_accuracy: 0.7963\n",
      "Epoch 24/50\n",
      "782/782 [==============================] - 6s 7ms/step - loss: 0.0055 - accuracy: 0.9983 - val_loss: 2.1284 - val_accuracy: 0.7953\n",
      "Epoch 25/50\n",
      "782/782 [==============================] - 6s 7ms/step - loss: 0.0101 - accuracy: 0.9959 - val_loss: 2.0615 - val_accuracy: 0.7964\n",
      "Epoch 26/50\n",
      "782/782 [==============================] - 6s 7ms/step - loss: 0.0044 - accuracy: 0.9987 - val_loss: 2.1430 - val_accuracy: 0.7973\n",
      "Epoch 27/50\n",
      "782/782 [==============================] - 6s 7ms/step - loss: 0.0019 - accuracy: 0.9996 - val_loss: 2.1508 - val_accuracy: 0.7945\n",
      "Epoch 28/50\n",
      "782/782 [==============================] - 6s 8ms/step - loss: 7.1222e-04 - accuracy: 0.9999 - val_loss: 2.2629 - val_accuracy: 0.7977\n",
      "Epoch 29/50\n",
      "782/782 [==============================] - 6s 7ms/step - loss: 1.2812e-04 - accuracy: 1.0000 - val_loss: 2.3285 - val_accuracy: 0.7970\n",
      "Epoch 30/50\n",
      "782/782 [==============================] - 6s 8ms/step - loss: 6.0715e-05 - accuracy: 1.0000 - val_loss: 2.3836 - val_accuracy: 0.7977\n",
      "Epoch 31/50\n",
      "782/782 [==============================] - 6s 7ms/step - loss: 4.1972e-05 - accuracy: 1.0000 - val_loss: 2.4512 - val_accuracy: 0.7966\n",
      "Epoch 32/50\n",
      "782/782 [==============================] - 6s 7ms/step - loss: 2.8873e-05 - accuracy: 1.0000 - val_loss: 2.5090 - val_accuracy: 0.7975\n",
      "Epoch 33/50\n",
      "782/782 [==============================] - 6s 7ms/step - loss: 1.8796e-05 - accuracy: 1.0000 - val_loss: 2.5785 - val_accuracy: 0.7975\n",
      "Epoch 34/50\n",
      "782/782 [==============================] - 6s 7ms/step - loss: 1.3978e-05 - accuracy: 1.0000 - val_loss: 2.6516 - val_accuracy: 0.7979\n",
      "Epoch 35/50\n",
      "782/782 [==============================] - 6s 7ms/step - loss: 9.9183e-06 - accuracy: 1.0000 - val_loss: 2.7274 - val_accuracy: 0.7980\n",
      "Epoch 36/50\n",
      "782/782 [==============================] - 6s 7ms/step - loss: 7.7809e-06 - accuracy: 1.0000 - val_loss: 2.8090 - val_accuracy: 0.7984\n",
      "Epoch 37/50\n",
      "782/782 [==============================] - 6s 7ms/step - loss: 4.8502e-06 - accuracy: 1.0000 - val_loss: 2.8885 - val_accuracy: 0.7985\n",
      "Epoch 38/50\n",
      "782/782 [==============================] - 6s 7ms/step - loss: 3.1077e-06 - accuracy: 1.0000 - val_loss: 2.9759 - val_accuracy: 0.7978\n",
      "Epoch 39/50\n",
      "782/782 [==============================] - 6s 7ms/step - loss: 2.0948e-06 - accuracy: 1.0000 - val_loss: 3.0638 - val_accuracy: 0.7978\n",
      "Epoch 40/50\n",
      "782/782 [==============================] - 6s 8ms/step - loss: 1.4131e-06 - accuracy: 1.0000 - val_loss: 3.1518 - val_accuracy: 0.7983\n",
      "Epoch 41/50\n",
      "782/782 [==============================] - 6s 8ms/step - loss: 1.0433e-06 - accuracy: 1.0000 - val_loss: 3.2385 - val_accuracy: 0.7980\n",
      "Epoch 42/50\n",
      "782/782 [==============================] - 6s 8ms/step - loss: 6.1530e-07 - accuracy: 1.0000 - val_loss: 3.3330 - val_accuracy: 0.7984\n",
      "Epoch 43/50\n",
      "782/782 [==============================] - 6s 8ms/step - loss: 4.3807e-07 - accuracy: 1.0000 - val_loss: 3.4177 - val_accuracy: 0.7979\n",
      "Epoch 44/50\n",
      "782/782 [==============================] - 6s 8ms/step - loss: 2.6959e-07 - accuracy: 1.0000 - val_loss: 3.5049 - val_accuracy: 0.7978\n",
      "Epoch 45/50\n",
      "782/782 [==============================] - 6s 8ms/step - loss: 2.0523e-07 - accuracy: 1.0000 - val_loss: 3.5936 - val_accuracy: 0.7982\n",
      "Epoch 46/50\n",
      "782/782 [==============================] - 6s 7ms/step - loss: 1.2117e-07 - accuracy: 1.0000 - val_loss: 3.6834 - val_accuracy: 0.7982\n",
      "Epoch 47/50\n",
      "782/782 [==============================] - 6s 8ms/step - loss: 8.1383e-08 - accuracy: 1.0000 - val_loss: 3.7692 - val_accuracy: 0.7980\n",
      "Epoch 48/50\n",
      "782/782 [==============================] - 6s 7ms/step - loss: 6.4869e-08 - accuracy: 1.0000 - val_loss: 3.8495 - val_accuracy: 0.7983\n",
      "Epoch 49/50\n",
      "782/782 [==============================] - 6s 7ms/step - loss: 3.9265e-08 - accuracy: 1.0000 - val_loss: 3.9310 - val_accuracy: 0.7982\n",
      "Epoch 50/50\n",
      "782/782 [==============================] - 6s 7ms/step - loss: 2.8193e-08 - accuracy: 1.0000 - val_loss: 4.0154 - val_accuracy: 0.7982\n"
     ]
    }
   ],
   "source": [
    "num_epochs = 50\n",
    "conv_history = conv_model.fit(padded, training_labels_final, epochs=num_epochs, validation_data=(testing_padded, testing_labels_final))"
   ]
  },
  {
   "cell_type": "markdown",
   "metadata": {
    "id": "3qMKmmyaKQj9"
   },
   "source": [
    "## BI-directional GRU"
   ]
  },
  {
   "cell_type": "code",
   "execution_count": 16,
   "metadata": {
    "id": "EArh1BO0JPZ8"
   },
   "outputs": [],
   "source": [
    "gru_model = tf.keras.Sequential([\n",
    "    tf.keras.layers.Embedding(vocab_size, embedding_dim, input_length=max_length),\n",
    "    tf.keras.layers.Bidirectional(tf.keras.layers.GRU(32)),\n",
    "    tf.keras.layers.Dense(6, activation='relu'),\n",
    "    tf.keras.layers.Dense(1, activation='sigmoid')\n",
    "])"
   ]
  },
  {
   "cell_type": "code",
   "execution_count": 17,
   "metadata": {
    "colab": {
     "base_uri": "https://localhost:8080/"
    },
    "id": "zlwBvTFVJPaE",
    "outputId": "f5cce3d1-3d78-457d-fda1-d6b8811f2866"
   },
   "outputs": [
    {
     "name": "stdout",
     "output_type": "stream",
     "text": [
      "Model: \"sequential_2\"\n",
      "_________________________________________________________________\n",
      "Layer (type)                 Output Shape              Param #   \n",
      "=================================================================\n",
      "embedding_2 (Embedding)      (None, 120, 16)           160000    \n",
      "_________________________________________________________________\n",
      "bidirectional (Bidirectional (None, 64)                9600      \n",
      "_________________________________________________________________\n",
      "dense_4 (Dense)              (None, 6)                 390       \n",
      "_________________________________________________________________\n",
      "dense_5 (Dense)              (None, 1)                 7         \n",
      "=================================================================\n",
      "Total params: 169,997\n",
      "Trainable params: 169,997\n",
      "Non-trainable params: 0\n",
      "_________________________________________________________________\n"
     ]
    }
   ],
   "source": [
    "gru_model.summary()"
   ]
  },
  {
   "cell_type": "code",
   "execution_count": 18,
   "metadata": {
    "id": "AVpMGsZPJPaF"
   },
   "outputs": [],
   "source": [
    "gru_model.compile(loss='binary_crossentropy', optimizer='adam', metrics=['accuracy'])"
   ]
  },
  {
   "cell_type": "code",
   "execution_count": 19,
   "metadata": {
    "colab": {
     "base_uri": "https://localhost:8080/"
    },
    "id": "7mlgzaRDMtF6",
    "outputId": "cbec4dee-8315-44ba-c32b-438c52855534"
   },
   "outputs": [
    {
     "name": "stdout",
     "output_type": "stream",
     "text": [
      "Epoch 1/50\n",
      "782/782 [==============================] - 17s 19ms/step - loss: 0.6716 - accuracy: 0.5748 - val_loss: 0.6262 - val_accuracy: 0.7018\n",
      "Epoch 2/50\n",
      "782/782 [==============================] - 14s 18ms/step - loss: 0.5789 - accuracy: 0.7232 - val_loss: 0.4692 - val_accuracy: 0.8030\n",
      "Epoch 3/50\n",
      "782/782 [==============================] - 14s 18ms/step - loss: 0.4356 - accuracy: 0.8232 - val_loss: 0.4192 - val_accuracy: 0.8350\n",
      "Epoch 4/50\n",
      "782/782 [==============================] - 14s 18ms/step - loss: 0.3344 - accuracy: 0.8837 - val_loss: 0.4089 - val_accuracy: 0.8373\n",
      "Epoch 5/50\n",
      "782/782 [==============================] - 14s 18ms/step - loss: 0.2713 - accuracy: 0.9104 - val_loss: 0.4043 - val_accuracy: 0.8389\n",
      "Epoch 6/50\n",
      "782/782 [==============================] - 14s 18ms/step - loss: 0.2266 - accuracy: 0.9300 - val_loss: 0.4582 - val_accuracy: 0.8332\n",
      "Epoch 7/50\n",
      "782/782 [==============================] - 14s 18ms/step - loss: 0.1927 - accuracy: 0.9424 - val_loss: 0.4569 - val_accuracy: 0.8243\n",
      "Epoch 8/50\n",
      "782/782 [==============================] - 14s 18ms/step - loss: 0.1642 - accuracy: 0.9535 - val_loss: 0.5170 - val_accuracy: 0.8312\n",
      "Epoch 9/50\n",
      "782/782 [==============================] - 14s 18ms/step - loss: 0.1434 - accuracy: 0.9605 - val_loss: 0.5629 - val_accuracy: 0.8314\n",
      "Epoch 10/50\n",
      "782/782 [==============================] - 14s 18ms/step - loss: 0.1304 - accuracy: 0.9640 - val_loss: 0.6262 - val_accuracy: 0.8314\n",
      "Epoch 11/50\n",
      "782/782 [==============================] - 14s 18ms/step - loss: 0.1154 - accuracy: 0.9694 - val_loss: 0.6320 - val_accuracy: 0.8291\n",
      "Epoch 12/50\n",
      "782/782 [==============================] - 14s 18ms/step - loss: 0.1048 - accuracy: 0.9727 - val_loss: 0.7308 - val_accuracy: 0.8248\n",
      "Epoch 13/50\n",
      "782/782 [==============================] - 14s 18ms/step - loss: 0.0974 - accuracy: 0.9750 - val_loss: 0.6927 - val_accuracy: 0.8230\n",
      "Epoch 14/50\n",
      "782/782 [==============================] - 14s 18ms/step - loss: 0.0916 - accuracy: 0.9780 - val_loss: 0.7627 - val_accuracy: 0.8310\n",
      "Epoch 15/50\n",
      "782/782 [==============================] - 14s 18ms/step - loss: 0.0903 - accuracy: 0.9777 - val_loss: 0.8380 - val_accuracy: 0.8261\n",
      "Epoch 16/50\n",
      "782/782 [==============================] - 14s 18ms/step - loss: 0.0878 - accuracy: 0.9785 - val_loss: 0.8331 - val_accuracy: 0.8257\n",
      "Epoch 17/50\n",
      "782/782 [==============================] - 14s 18ms/step - loss: 0.0841 - accuracy: 0.9798 - val_loss: 0.8589 - val_accuracy: 0.8207\n",
      "Epoch 18/50\n",
      "782/782 [==============================] - 14s 18ms/step - loss: 0.0867 - accuracy: 0.9791 - val_loss: 1.0295 - val_accuracy: 0.8217\n",
      "Epoch 19/50\n",
      "782/782 [==============================] - 14s 18ms/step - loss: 0.0935 - accuracy: 0.9766 - val_loss: 0.9312 - val_accuracy: 0.8188\n",
      "Epoch 20/50\n",
      "782/782 [==============================] - 14s 18ms/step - loss: 0.0795 - accuracy: 0.9812 - val_loss: 1.0178 - val_accuracy: 0.8228\n",
      "Epoch 21/50\n",
      "782/782 [==============================] - 14s 18ms/step - loss: 0.0864 - accuracy: 0.9786 - val_loss: 0.9080 - val_accuracy: 0.8180\n",
      "Epoch 22/50\n",
      "782/782 [==============================] - 14s 18ms/step - loss: 0.0754 - accuracy: 0.9824 - val_loss: 1.0234 - val_accuracy: 0.8216\n",
      "Epoch 23/50\n",
      "782/782 [==============================] - 14s 18ms/step - loss: 0.0768 - accuracy: 0.9818 - val_loss: 0.9406 - val_accuracy: 0.8222\n",
      "Epoch 24/50\n",
      "782/782 [==============================] - 14s 18ms/step - loss: 0.0784 - accuracy: 0.9810 - val_loss: 0.9665 - val_accuracy: 0.8187\n",
      "Epoch 25/50\n",
      "782/782 [==============================] - 14s 18ms/step - loss: 0.0696 - accuracy: 0.9828 - val_loss: 0.9930 - val_accuracy: 0.8215\n",
      "Epoch 26/50\n",
      "782/782 [==============================] - 14s 18ms/step - loss: 0.0666 - accuracy: 0.9831 - val_loss: 0.9959 - val_accuracy: 0.8212\n",
      "Epoch 27/50\n",
      "782/782 [==============================] - 14s 18ms/step - loss: 0.0644 - accuracy: 0.9828 - val_loss: 1.0525 - val_accuracy: 0.8191\n",
      "Epoch 28/50\n",
      "782/782 [==============================] - 14s 18ms/step - loss: 0.0511 - accuracy: 0.9869 - val_loss: 1.1549 - val_accuracy: 0.8201\n",
      "Epoch 29/50\n",
      "782/782 [==============================] - 14s 18ms/step - loss: 0.0425 - accuracy: 0.9896 - val_loss: 1.2033 - val_accuracy: 0.8170\n",
      "Epoch 30/50\n",
      "782/782 [==============================] - 14s 18ms/step - loss: 0.0379 - accuracy: 0.9915 - val_loss: 0.9990 - val_accuracy: 0.8128\n",
      "Epoch 31/50\n",
      "782/782 [==============================] - 14s 18ms/step - loss: 0.0331 - accuracy: 0.9934 - val_loss: 1.1322 - val_accuracy: 0.8158\n",
      "Epoch 32/50\n",
      "782/782 [==============================] - 14s 18ms/step - loss: 0.0306 - accuracy: 0.9942 - val_loss: 1.1939 - val_accuracy: 0.8149\n",
      "Epoch 33/50\n",
      "782/782 [==============================] - 14s 18ms/step - loss: 0.0276 - accuracy: 0.9951 - val_loss: 1.1153 - val_accuracy: 0.8108\n",
      "Epoch 34/50\n",
      "782/782 [==============================] - 14s 18ms/step - loss: 0.0266 - accuracy: 0.9950 - val_loss: 1.1439 - val_accuracy: 0.8098\n",
      "Epoch 35/50\n",
      "782/782 [==============================] - 14s 18ms/step - loss: 0.0377 - accuracy: 0.9918 - val_loss: 1.3959 - val_accuracy: 0.8158\n",
      "Epoch 36/50\n",
      "782/782 [==============================] - 14s 18ms/step - loss: 0.0235 - accuracy: 0.9956 - val_loss: 1.1359 - val_accuracy: 0.7988\n",
      "Epoch 37/50\n",
      "782/782 [==============================] - 14s 18ms/step - loss: 0.0240 - accuracy: 0.9956 - val_loss: 1.1905 - val_accuracy: 0.8067\n",
      "Epoch 38/50\n",
      "782/782 [==============================] - 14s 18ms/step - loss: 0.0242 - accuracy: 0.9957 - val_loss: 1.2018 - val_accuracy: 0.8007\n",
      "Epoch 39/50\n",
      "782/782 [==============================] - 14s 18ms/step - loss: 0.0287 - accuracy: 0.9942 - val_loss: 1.2231 - val_accuracy: 0.8086\n",
      "Epoch 40/50\n",
      "782/782 [==============================] - 14s 18ms/step - loss: 0.0249 - accuracy: 0.9952 - val_loss: 1.2446 - val_accuracy: 0.8070\n",
      "Epoch 41/50\n",
      "782/782 [==============================] - 14s 18ms/step - loss: 0.0272 - accuracy: 0.9944 - val_loss: 1.3942 - val_accuracy: 0.8097\n",
      "Epoch 42/50\n",
      "782/782 [==============================] - 14s 18ms/step - loss: 0.0271 - accuracy: 0.9949 - val_loss: 1.3191 - val_accuracy: 0.8166\n",
      "Epoch 43/50\n",
      "782/782 [==============================] - 14s 18ms/step - loss: 0.0234 - accuracy: 0.9958 - val_loss: 1.2604 - val_accuracy: 0.8106\n",
      "Epoch 44/50\n",
      "782/782 [==============================] - 14s 18ms/step - loss: 0.0240 - accuracy: 0.9958 - val_loss: 1.5452 - val_accuracy: 0.8169\n",
      "Epoch 45/50\n",
      "782/782 [==============================] - 14s 18ms/step - loss: 0.0224 - accuracy: 0.9957 - val_loss: 1.5277 - val_accuracy: 0.8123\n",
      "Epoch 46/50\n",
      "782/782 [==============================] - 14s 18ms/step - loss: 0.0319 - accuracy: 0.9937 - val_loss: 1.1947 - val_accuracy: 0.8060\n",
      "Epoch 47/50\n",
      "782/782 [==============================] - 14s 18ms/step - loss: 0.0212 - accuracy: 0.9965 - val_loss: 1.1772 - val_accuracy: 0.7847\n",
      "Epoch 48/50\n",
      "782/782 [==============================] - 14s 18ms/step - loss: 0.0244 - accuracy: 0.9951 - val_loss: 1.1858 - val_accuracy: 0.8087\n",
      "Epoch 49/50\n",
      "782/782 [==============================] - 14s 18ms/step - loss: 0.0237 - accuracy: 0.9959 - val_loss: 1.2483 - val_accuracy: 0.8055\n",
      "Epoch 50/50\n",
      "782/782 [==============================] - 14s 18ms/step - loss: 0.0235 - accuracy: 0.9959 - val_loss: 1.2956 - val_accuracy: 0.8041\n"
     ]
    }
   ],
   "source": [
    "num_epochs = 50\n",
    "gru_history = gru_model.fit(padded, training_labels_final, epochs=num_epochs, validation_data=(testing_padded, testing_labels_final))"
   ]
  },
  {
   "cell_type": "markdown",
   "metadata": {
    "id": "vEWn20reKkBK"
   },
   "source": [
    "## BI-directional LSTM"
   ]
  },
  {
   "cell_type": "code",
   "execution_count": 20,
   "metadata": {
    "id": "B-pTY8SPKkBL"
   },
   "outputs": [],
   "source": [
    "lstm_model = tf.keras.Sequential([\n",
    "    tf.keras.layers.Embedding(vocab_size, embedding_dim, input_length=max_length),\n",
    "    tf.keras.layers.Bidirectional(tf.keras.layers.LSTM(32)),\n",
    "    tf.keras.layers.Dense(6, activation='relu'),\n",
    "    tf.keras.layers.Dense(1, activation='sigmoid')\n",
    "])"
   ]
  },
  {
   "cell_type": "code",
   "execution_count": 21,
   "metadata": {
    "colab": {
     "base_uri": "https://localhost:8080/"
    },
    "id": "npP0OgCrKkBM",
    "outputId": "ef1daecd-6dc3-4521-cdaa-a144e1f4be08"
   },
   "outputs": [
    {
     "name": "stdout",
     "output_type": "stream",
     "text": [
      "Model: \"sequential_3\"\n",
      "_________________________________________________________________\n",
      "Layer (type)                 Output Shape              Param #   \n",
      "=================================================================\n",
      "embedding_3 (Embedding)      (None, 120, 16)           160000    \n",
      "_________________________________________________________________\n",
      "bidirectional_1 (Bidirection (None, 64)                12544     \n",
      "_________________________________________________________________\n",
      "dense_6 (Dense)              (None, 6)                 390       \n",
      "_________________________________________________________________\n",
      "dense_7 (Dense)              (None, 1)                 7         \n",
      "=================================================================\n",
      "Total params: 172,941\n",
      "Trainable params: 172,941\n",
      "Non-trainable params: 0\n",
      "_________________________________________________________________\n"
     ]
    }
   ],
   "source": [
    "lstm_model.summary()"
   ]
  },
  {
   "cell_type": "code",
   "execution_count": 22,
   "metadata": {
    "id": "GohJtxG9KkBM"
   },
   "outputs": [],
   "source": [
    "lstm_model.compile(loss='binary_crossentropy', optimizer='adam', metrics=['accuracy'])"
   ]
  },
  {
   "cell_type": "code",
   "execution_count": 23,
   "metadata": {
    "colab": {
     "base_uri": "https://localhost:8080/"
    },
    "id": "ia_Ew_PXKkBM",
    "outputId": "ba8b4881-fde6-400a-8bad-262bf900b5f3"
   },
   "outputs": [
    {
     "name": "stdout",
     "output_type": "stream",
     "text": [
      "Epoch 1/50\n",
      "782/782 [==============================] - 18s 19ms/step - loss: 0.6624 - accuracy: 0.5762 - val_loss: 0.4329 - val_accuracy: 0.8156\n",
      "Epoch 2/50\n",
      "782/782 [==============================] - 15s 19ms/step - loss: 0.3428 - accuracy: 0.8621 - val_loss: 0.3432 - val_accuracy: 0.8521\n",
      "Epoch 3/50\n",
      "782/782 [==============================] - 15s 19ms/step - loss: 0.2379 - accuracy: 0.9122 - val_loss: 0.3582 - val_accuracy: 0.8437\n",
      "Epoch 4/50\n",
      "782/782 [==============================] - 15s 19ms/step - loss: 0.1738 - accuracy: 0.9382 - val_loss: 0.4192 - val_accuracy: 0.8396\n",
      "Epoch 5/50\n",
      "782/782 [==============================] - 15s 19ms/step - loss: 0.1122 - accuracy: 0.9621 - val_loss: 0.5242 - val_accuracy: 0.8296\n",
      "Epoch 6/50\n",
      "782/782 [==============================] - 15s 19ms/step - loss: 0.0718 - accuracy: 0.9750 - val_loss: 0.6611 - val_accuracy: 0.8084\n",
      "Epoch 7/50\n",
      "782/782 [==============================] - 14s 18ms/step - loss: 0.0477 - accuracy: 0.9856 - val_loss: 0.7413 - val_accuracy: 0.8230\n",
      "Epoch 8/50\n",
      "782/782 [==============================] - 14s 18ms/step - loss: 0.0316 - accuracy: 0.9900 - val_loss: 0.7795 - val_accuracy: 0.8212\n",
      "Epoch 9/50\n",
      "782/782 [==============================] - 14s 18ms/step - loss: 0.0190 - accuracy: 0.9945 - val_loss: 0.7700 - val_accuracy: 0.7889\n",
      "Epoch 10/50\n",
      "782/782 [==============================] - 14s 18ms/step - loss: 0.0355 - accuracy: 0.9880 - val_loss: 0.9646 - val_accuracy: 0.8170\n",
      "Epoch 11/50\n",
      "782/782 [==============================] - 14s 18ms/step - loss: 0.0264 - accuracy: 0.9907 - val_loss: 1.0076 - val_accuracy: 0.8160\n",
      "Epoch 12/50\n",
      "782/782 [==============================] - 15s 19ms/step - loss: 0.0080 - accuracy: 0.9979 - val_loss: 1.1314 - val_accuracy: 0.8033\n",
      "Epoch 13/50\n",
      "782/782 [==============================] - 14s 18ms/step - loss: 0.0148 - accuracy: 0.9955 - val_loss: 1.0218 - val_accuracy: 0.8052\n",
      "Epoch 14/50\n",
      "782/782 [==============================] - 14s 18ms/step - loss: 0.0114 - accuracy: 0.9961 - val_loss: 1.3296 - val_accuracy: 0.8099\n",
      "Epoch 15/50\n",
      "782/782 [==============================] - 14s 18ms/step - loss: 0.0130 - accuracy: 0.9958 - val_loss: 1.1478 - val_accuracy: 0.8118\n",
      "Epoch 16/50\n",
      "782/782 [==============================] - 14s 18ms/step - loss: 0.0051 - accuracy: 0.9988 - val_loss: 1.1668 - val_accuracy: 0.8134\n",
      "Epoch 17/50\n",
      "782/782 [==============================] - 14s 18ms/step - loss: 0.0124 - accuracy: 0.9957 - val_loss: 1.1049 - val_accuracy: 0.8040\n",
      "Epoch 18/50\n",
      "782/782 [==============================] - 14s 18ms/step - loss: 0.0156 - accuracy: 0.9950 - val_loss: 1.1136 - val_accuracy: 0.8053\n",
      "Epoch 19/50\n",
      "782/782 [==============================] - 14s 18ms/step - loss: 0.0065 - accuracy: 0.9983 - val_loss: 1.0964 - val_accuracy: 0.8128\n",
      "Epoch 20/50\n",
      "782/782 [==============================] - 14s 18ms/step - loss: 0.0075 - accuracy: 0.9975 - val_loss: 1.4062 - val_accuracy: 0.7918\n",
      "Epoch 21/50\n",
      "782/782 [==============================] - 14s 18ms/step - loss: 0.0071 - accuracy: 0.9977 - val_loss: 1.3123 - val_accuracy: 0.8094\n",
      "Epoch 22/50\n",
      "782/782 [==============================] - 14s 18ms/step - loss: 0.0060 - accuracy: 0.9981 - val_loss: 1.2132 - val_accuracy: 0.8063\n",
      "Epoch 23/50\n",
      "782/782 [==============================] - 14s 18ms/step - loss: 0.0029 - accuracy: 0.9995 - val_loss: 1.4247 - val_accuracy: 0.8135\n",
      "Epoch 24/50\n",
      "782/782 [==============================] - 14s 18ms/step - loss: 4.9312e-04 - accuracy: 0.9999 - val_loss: 1.4108 - val_accuracy: 0.8054\n",
      "Epoch 25/50\n",
      "782/782 [==============================] - 14s 18ms/step - loss: 0.0095 - accuracy: 0.9973 - val_loss: 1.3406 - val_accuracy: 0.8167\n",
      "Epoch 26/50\n",
      "782/782 [==============================] - 14s 18ms/step - loss: 0.0118 - accuracy: 0.9960 - val_loss: 1.2628 - val_accuracy: 0.8057\n",
      "Epoch 27/50\n",
      "782/782 [==============================] - 14s 19ms/step - loss: 0.0016 - accuracy: 0.9996 - val_loss: 1.3876 - val_accuracy: 0.8133\n",
      "Epoch 28/50\n",
      "782/782 [==============================] - 14s 18ms/step - loss: 0.0020 - accuracy: 0.9996 - val_loss: 1.6147 - val_accuracy: 0.8042\n",
      "Epoch 29/50\n",
      "782/782 [==============================] - 14s 18ms/step - loss: 0.0113 - accuracy: 0.9965 - val_loss: 1.2138 - val_accuracy: 0.8144\n",
      "Epoch 30/50\n",
      "782/782 [==============================] - 14s 18ms/step - loss: 0.0041 - accuracy: 0.9986 - val_loss: 1.4593 - val_accuracy: 0.8140\n",
      "Epoch 31/50\n",
      "782/782 [==============================] - 14s 18ms/step - loss: 0.0030 - accuracy: 0.9992 - val_loss: 1.2874 - val_accuracy: 0.8146\n",
      "Epoch 32/50\n",
      "782/782 [==============================] - 14s 18ms/step - loss: 0.0023 - accuracy: 0.9994 - val_loss: 1.3784 - val_accuracy: 0.8148\n",
      "Epoch 33/50\n",
      "782/782 [==============================] - 14s 18ms/step - loss: 5.9436e-04 - accuracy: 0.9999 - val_loss: 1.5514 - val_accuracy: 0.8182\n",
      "Epoch 34/50\n",
      "782/782 [==============================] - 14s 18ms/step - loss: 0.0054 - accuracy: 0.9984 - val_loss: 1.2646 - val_accuracy: 0.8090\n",
      "Epoch 35/50\n",
      "782/782 [==============================] - 14s 18ms/step - loss: 0.0097 - accuracy: 0.9960 - val_loss: 1.3975 - val_accuracy: 0.8168\n",
      "Epoch 36/50\n",
      "782/782 [==============================] - 15s 19ms/step - loss: 4.4225e-04 - accuracy: 1.0000 - val_loss: 1.5137 - val_accuracy: 0.8215\n",
      "Epoch 37/50\n",
      "782/782 [==============================] - 14s 18ms/step - loss: 7.9166e-05 - accuracy: 1.0000 - val_loss: 1.5126 - val_accuracy: 0.8196\n",
      "Epoch 38/50\n",
      "782/782 [==============================] - 14s 18ms/step - loss: 4.2459e-05 - accuracy: 1.0000 - val_loss: 1.5789 - val_accuracy: 0.8198\n",
      "Epoch 39/50\n",
      "782/782 [==============================] - 15s 19ms/step - loss: 2.5030e-05 - accuracy: 1.0000 - val_loss: 1.6339 - val_accuracy: 0.8194\n",
      "Epoch 40/50\n",
      "782/782 [==============================] - 15s 19ms/step - loss: 1.7649e-05 - accuracy: 1.0000 - val_loss: 1.6970 - val_accuracy: 0.8198\n",
      "Epoch 41/50\n",
      "782/782 [==============================] - 15s 20ms/step - loss: 1.1939e-05 - accuracy: 1.0000 - val_loss: 1.7558 - val_accuracy: 0.8199\n",
      "Epoch 42/50\n",
      "782/782 [==============================] - 15s 20ms/step - loss: 7.8921e-06 - accuracy: 1.0000 - val_loss: 1.8169 - val_accuracy: 0.8197\n",
      "Epoch 43/50\n",
      "782/782 [==============================] - 15s 20ms/step - loss: 5.3103e-06 - accuracy: 1.0000 - val_loss: 1.8871 - val_accuracy: 0.8199\n",
      "Epoch 44/50\n",
      "782/782 [==============================] - 15s 19ms/step - loss: 3.3533e-06 - accuracy: 1.0000 - val_loss: 1.9534 - val_accuracy: 0.8199\n",
      "Epoch 45/50\n",
      "782/782 [==============================] - 15s 19ms/step - loss: 2.2812e-06 - accuracy: 1.0000 - val_loss: 2.0227 - val_accuracy: 0.8199\n",
      "Epoch 46/50\n",
      "782/782 [==============================] - 15s 19ms/step - loss: 1.5809e-06 - accuracy: 1.0000 - val_loss: 2.0913 - val_accuracy: 0.8194\n",
      "Epoch 47/50\n",
      "782/782 [==============================] - 15s 19ms/step - loss: 9.8382e-07 - accuracy: 1.0000 - val_loss: 2.1634 - val_accuracy: 0.8192\n",
      "Epoch 48/50\n",
      "782/782 [==============================] - 15s 19ms/step - loss: 6.2480e-07 - accuracy: 1.0000 - val_loss: 2.2344 - val_accuracy: 0.8189\n",
      "Epoch 49/50\n",
      "782/782 [==============================] - 15s 19ms/step - loss: 4.2179e-07 - accuracy: 1.0000 - val_loss: 2.3143 - val_accuracy: 0.8187\n",
      "Epoch 50/50\n",
      "782/782 [==============================] - 15s 19ms/step - loss: 2.8108e-07 - accuracy: 1.0000 - val_loss: 2.3906 - val_accuracy: 0.8188\n"
     ]
    }
   ],
   "source": [
    "num_epochs = 50\n",
    "lstm_history = lstm_model.fit(padded, training_labels_final, epochs=num_epochs, validation_data=(testing_padded, testing_labels_final))"
   ]
  },
  {
   "cell_type": "code",
   "execution_count": 34,
   "metadata": {
    "id": "Mp1Z7P9pYRSK"
   },
   "outputs": [],
   "source": [
    "import matplotlib.pyplot as plt\n",
    "\n",
    "\n",
    "def plot_graphs(history, title):\n",
    "  # plt.plot(history.history[string])\n",
    "  # plt.plot(history.history['val_'+string])\n",
    "  # plt.xlabel(\"Epochs\")\n",
    "  # plt.ylabel(string)\n",
    "  # plt.legend([string, 'val_'+string])\n",
    "  # plt.show()\n",
    "\n",
    "  acc = history.history['accuracy']\n",
    "  val_acc = history.history['val_accuracy']\n",
    "  loss = history.history['loss']\n",
    "  val_loss = history.history['val_loss']\n",
    "\n",
    "  epochs = range(len(acc))\n",
    "  fig, (ax1, ax2) = plt.subplots(1, 2, figsize=(14,4))\n",
    "  \n",
    "  ax1.plot(epochs, acc, label='Training acc')\n",
    "  ax1.plot(epochs, val_acc, label='Validation acc')\n",
    "  ax1.set_xlabel('Epochs')\n",
    "  ax1.set_ylabel('Accuracy')\n",
    "  ax1.set_title(f'{title} Accuracy over {len(acc)} epochs')\n",
    "  ax1.legend(loc=0)\n",
    "  # ax1.legend(['legends', ''])\n",
    "  \n",
    "  ax2.plot(epochs, loss, label='Training loss')\n",
    "  ax2.plot(epochs, val_loss, label='validation loss')\n",
    "  ax2.set_xlabel('Epochs')\n",
    "  ax2.set_ylabel('Loss')\n",
    "  ax2.set_title(f'{title} Loss over {len(acc)} epochs')\n",
    "  ax2.legend(loc=0)\n",
    "\n",
    "    \n",
    "  plt.show()"
   ]
  },
  {
   "cell_type": "code",
   "execution_count": 36,
   "metadata": {
    "colab": {
     "base_uri": "https://localhost:8080/",
     "height": 295
    },
    "id": "R_sX6ilIM515",
    "outputId": "7a9c7a1c-caa9-475e-fea1-60f86b2cbd27"
   },
   "outputs": [
    {
     "data": {
      "image/png": "[encoded data removed]",
      "text/plain": [
       "<Figure size 1008x288 with 2 Axes>"
      ]
     },
     "metadata": {
      "needs_background": "light",
      "tags": []
     },
     "output_type": "display_data"
    }
   ],
   "source": [
    "plot_graphs(base_history, 'basic NN')"
   ]
  },
  {
   "cell_type": "code",
   "execution_count": 39,
   "metadata": {
    "colab": {
     "base_uri": "https://localhost:8080/",
     "height": 295
    },
    "id": "F1SvZBgsXfPd",
    "outputId": "d79c3cd0-ab1f-4811-eaee-579a94341c77"
   },
   "outputs": [
    {
     "data": {
      "image/png": "[encoded data removed]",
      "text/plain": [
       "<Figure size 1008x288 with 2 Axes>"
      ]
     },
     "metadata": {
      "needs_background": "light",
      "tags": []
     },
     "output_type": "display_data"
    }
   ],
   "source": [
    "plot_graphs(conv_history, 'CONV')"
   ]
  },
  {
   "cell_type": "code",
   "execution_count": 37,
   "metadata": {
    "colab": {
     "base_uri": "https://localhost:8080/",
     "height": 295
    },
    "id": "RFEXtKtqNARB",
    "outputId": "795fd3dd-7939-436d-adad-3d81de4dc7cc"
   },
   "outputs": [
    {
     "data": {
      "image/png": "[encoded data removed]",
      "text/plain": [
       "<Figure size 1008x288 with 2 Axes>"
      ]
     },
     "metadata": {
      "needs_background": "light",
      "tags": []
     },
     "output_type": "display_data"
    }
   ],
   "source": [
    "plot_graphs(lstm_history, 'LSTM')"
   ]
  },
  {
   "cell_type": "code",
   "execution_count": 38,
   "metadata": {
    "colab": {
     "base_uri": "https://localhost:8080/",
     "height": 295
    },
    "id": "KUO2d1bFO3BO",
    "outputId": "f4f9df2c-c537-4a35-9349-dd6c5137e024"
   },
   "outputs": [
    {
     "data": {
      "image/png": "[encoded data removed]",
      "text/plain": [
       "<Figure size 1008x288 with 2 Axes>"
      ]
     },
     "metadata": {
      "needs_background": "light",
      "tags": []
     },
     "output_type": "display_data"
    }
   ],
   "source": [
    "plot_graphs(gru_history, 'GRU')"
   ]
  },
  {
   "cell_type": "code",
   "execution_count": null,
   "metadata": {
    "id": "yLBUDF7gXd62"
   },
   "outputs": [],
   "source": []
  }
 ],
 "metadata": {
  "accelerator": "GPU",
  "colab": {
   "collapsed_sections": [],
   "name": "comparing-sentence-classifiers.ipynb",
   "provenance": [],
   "toc_visible": true
  },
  "kernelspec": {
   "display_name": "Python 3",
   "language": "python",
   "name": "python3"
  },
  "language_info": {
   "codemirror_mode": {
    "name": "ipython",
    "version": 3
   },
   "file_extension": ".py",
   "mimetype": "text/x-python",
   "name": "python",
   "nbconvert_exporter": "python",
   "pygments_lexer": "ipython3",
   "version": "3.8.3"
  },
  "widgets": {
   "application/vnd.jupyter.widget-state+json": {
    "00e395f42af74b66a8a7a0bb4b0674db": {
     "model_module": "@jupyter-widgets/base",
     "model_name": "LayoutModel",
     "state": {
      "_model_module": "@jupyter-widgets/base",
      "_model_module_version": "1.2.0",
      "_model_name": "LayoutModel",
      "_view_count": null,
      "_view_module": "@jupyter-widgets/base",
      "_view_module_version": "1.2.0",
      "_view_name": "LayoutView",
      "align_content": null,
      "align_items": null,
      "align_self": null,
      "border": null,
      "bottom": null,
      "display": null,
      "flex": null,
      "flex_flow": null,
      "grid_area": null,
      "grid_auto_columns": null,
      "grid_auto_flow": null,
      "grid_auto_rows": null,
      "grid_column": null,
      "grid_gap": null,
      "grid_row": null,
      "grid_template_areas": null,
      "grid_template_columns": null,
      "grid_template_rows": null,
      "height": null,
      "justify_content": null,
      "justify_items": null,
      "left": null,
      "margin": null,
      "max_height": null,
      "max_width": null,
      "min_height": null,
      "min_width": null,
      "object_fit": null,
      "object_position": null,
      "order": null,
      "overflow": null,
      "overflow_x": null,
      "overflow_y": null,
      "padding": null,
      "right": null,
      "top": null,
      "visibility": null,
      "width": null
     }
    },
    "032b7571199949b2a36c7db85b0eb207": {
     "model_module": "@jupyter-widgets/controls",
     "model_name": "HTMLModel",
     "state": {
      "_dom_classes": [],
      "_model_module": "@jupyter-widgets/controls",
      "_model_module_version": "1.5.0",
      "_model_name": "HTMLModel",
      "_view_count": null,
      "_view_module": "@jupyter-widgets/controls",
      "_view_module_version": "1.5.0",
      "_view_name": "HTMLView",
      "description": "",
      "description_tooltip": null,
      "layout": "IPY_MODEL_c733573ff0c344fd9030605e0005f616",
      "placeholder": "​",
      "style": "IPY_MODEL_a9e4dcdaf5f543a88b29828eb9be4b40",
      "value": " 1/1 [00:04&lt;00:00,  4.03s/ url]"
     }
    },
    "05731893282445a7986a40a3c261e214": {
     "model_module": "@jupyter-widgets/controls",
     "model_name": "HTMLModel",
     "state": {
      "_dom_classes": [],
      "_model_module": "@jupyter-widgets/controls",
      "_model_module_version": "1.5.0",
      "_model_name": "HTMLModel",
      "_view_count": null,
      "_view_module": "@jupyter-widgets/controls",
      "_view_module_version": "1.5.0",
      "_view_name": "HTMLView",
      "description": "",
      "description_tooltip": null,
      "layout": "IPY_MODEL_c26d3e218db643439bb1ccb54b03fe88",
      "placeholder": "​",
      "style": "IPY_MODEL_0f8ede38aca0495eaef6df7cd1a0890d",
      "value": " 13633/25000 [00:00&lt;00:00, 136326.88 examples/s]"
     }
    },
    "0b57e2596a484338883f037fb8bfe56a": {
     "model_module": "@jupyter-widgets/base",
     "model_name": "LayoutModel",
     "state": {
      "_model_module": "@jupyter-widgets/base",
      "_model_module_version": "1.2.0",
      "_model_name": "LayoutModel",
      "_view_count": null,
      "_view_module": "@jupyter-widgets/base",
      "_view_module_version": "1.2.0",
      "_view_name": "LayoutView",
      "align_content": null,
      "align_items": null,
      "align_self": null,
      "border": null,
      "bottom": null,
      "display": null,
      "flex": null,
      "flex_flow": null,
      "grid_area": null,
      "grid_auto_columns": null,
      "grid_auto_flow": null,
      "grid_auto_rows": null,
      "grid_column": null,
      "grid_gap": null,
      "grid_row": null,
      "grid_template_areas": null,
      "grid_template_columns": null,
      "grid_template_rows": null,
      "height": null,
      "justify_content": null,
      "justify_items": null,
      "left": null,
      "margin": null,
      "max_height": null,
      "max_width": null,
      "min_height": null,
      "min_width": null,
      "object_fit": null,
      "object_position": null,
      "order": null,
      "overflow": null,
      "overflow_x": null,
      "overflow_y": null,
      "padding": null,
      "right": null,
      "top": null,
      "visibility": null,
      "width": null
     }
    },
    "0deee575486f4fa8806c18e95fdc860d": {
     "model_module": "@jupyter-widgets/controls",
     "model_name": "ProgressStyleModel",
     "state": {
      "_model_module": "@jupyter-widgets/controls",
      "_model_module_version": "1.5.0",
      "_model_name": "ProgressStyleModel",
      "_view_count": null,
      "_view_module": "@jupyter-widgets/base",
      "_view_module_version": "1.2.0",
      "_view_name": "StyleView",
      "bar_color": null,
      "description_width": "initial"
     }
    },
    "0f8ede38aca0495eaef6df7cd1a0890d": {
     "model_module": "@jupyter-widgets/controls",
     "model_name": "DescriptionStyleModel",
     "state": {
      "_model_module": "@jupyter-widgets/controls",
      "_model_module_version": "1.5.0",
      "_model_name": "DescriptionStyleModel",
      "_view_count": null,
      "_view_module": "@jupyter-widgets/base",
      "_view_module_version": "1.2.0",
      "_view_name": "StyleView",
      "description_width": ""
     }
    },
    "13a72df19c0e4e1c9410b9c937e51847": {
     "model_module": "@jupyter-widgets/base",
     "model_name": "LayoutModel",
     "state": {
      "_model_module": "@jupyter-widgets/base",
      "_model_module_version": "1.2.0",
      "_model_name": "LayoutModel",
      "_view_count": null,
      "_view_module": "@jupyter-widgets/base",
      "_view_module_version": "1.2.0",
      "_view_name": "LayoutView",
      "align_content": null,
      "align_items": null,
      "align_self": null,
      "border": null,
      "bottom": null,
      "display": null,
      "flex": null,
      "flex_flow": null,
      "grid_area": null,
      "grid_auto_columns": null,
      "grid_auto_flow": null,
      "grid_auto_rows": null,
      "grid_column": null,
      "grid_gap": null,
      "grid_row": null,
      "grid_template_areas": null,
      "grid_template_columns": null,
      "grid_template_rows": null,
      "height": null,
      "justify_content": null,
      "justify_items": null,
      "left": null,
      "margin": null,
      "max_height": null,
      "max_width": null,
      "min_height": null,
      "min_width": null,
      "object_fit": null,
      "object_position": null,
      "order": null,
      "overflow": null,
      "overflow_x": null,
      "overflow_y": null,
      "padding": null,
      "right": null,
      "top": null,
      "visibility": null,
      "width": null
     }
    },
    "143a1d7fd93b487993bb81af76e699e6": {
     "model_module": "@jupyter-widgets/base",
     "model_name": "LayoutModel",
     "state": {
      "_model_module": "@jupyter-widgets/base",
      "_model_module_version": "1.2.0",
      "_model_name": "LayoutModel",
      "_view_count": null,
      "_view_module": "@jupyter-widgets/base",
      "_view_module_version": "1.2.0",
      "_view_name": "LayoutView",
      "align_content": null,
      "align_items": null,
      "align_self": null,
      "border": null,
      "bottom": null,
      "display": null,
      "flex": null,
      "flex_flow": null,
      "grid_area": null,
      "grid_auto_columns": null,
      "grid_auto_flow": null,
      "grid_auto_rows": null,
      "grid_column": null,
      "grid_gap": null,
      "grid_row": null,
      "grid_template_areas": null,
      "grid_template_columns": null,
      "grid_template_rows": null,
      "height": null,
      "justify_content": null,
      "justify_items": null,
      "left": null,
      "margin": null,
      "max_height": null,
      "max_width": null,
      "min_height": null,
      "min_width": null,
      "object_fit": null,
      "object_position": null,
      "order": null,
      "overflow": null,
      "overflow_x": null,
      "overflow_y": null,
      "padding": null,
      "right": null,
      "top": null,
      "visibility": null,
      "width": null
     }
    },
    "1a4fdd62fcd24cb0af288ff611225a0c": {
     "model_module": "@jupyter-widgets/controls",
     "model_name": "HBoxModel",
     "state": {
      "_dom_classes": [],
      "_model_module": "@jupyter-widgets/controls",
      "_model_module_version": "1.5.0",
      "_model_name": "HBoxModel",
      "_view_count": null,
      "_view_module": "@jupyter-widgets/controls",
      "_view_module_version": "1.5.0",
      "_view_name": "HBoxView",
      "box_style": "",
      "children": [
       "IPY_MODEL_36831bd9c83d43f98f2ea9c9dce59032",
       "IPY_MODEL_032b7571199949b2a36c7db85b0eb207"
      ],
      "layout": "IPY_MODEL_b7d6e062dd2848e0b943bfb55627a8d6"
     }
    },
    "1e9622bc829f4e9d9584cb5ddafe6f5b": {
     "model_module": "@jupyter-widgets/controls",
     "model_name": "HBoxModel",
     "state": {
      "_dom_classes": [],
      "_model_module": "@jupyter-widgets/controls",
      "_model_module_version": "1.5.0",
      "_model_name": "HBoxModel",
      "_view_count": null,
      "_view_module": "@jupyter-widgets/controls",
      "_view_module_version": "1.5.0",
      "_view_name": "HBoxView",
      "box_style": "",
      "children": [
       "IPY_MODEL_cbd018465acd4744b4dd8c5bcf607351",
       "IPY_MODEL_b328cc3bee394384a2d3cd4aeb621ae5"
      ],
      "layout": "IPY_MODEL_13a72df19c0e4e1c9410b9c937e51847"
     }
    },
    "1f3939a7e75e4ce6a53e45210a7d38ea": {
     "model_module": "@jupyter-widgets/base",
     "model_name": "LayoutModel",
     "state": {
      "_model_module": "@jupyter-widgets/base",
      "_model_module_version": "1.2.0",
      "_model_name": "LayoutModel",
      "_view_count": null,
      "_view_module": "@jupyter-widgets/base",
      "_view_module_version": "1.2.0",
      "_view_name": "LayoutView",
      "align_content": null,
      "align_items": null,
      "align_self": null,
      "border": null,
      "bottom": null,
      "display": null,
      "flex": null,
      "flex_flow": null,
      "grid_area": null,
      "grid_auto_columns": null,
      "grid_auto_flow": null,
      "grid_auto_rows": null,
      "grid_column": null,
      "grid_gap": null,
      "grid_row": null,
      "grid_template_areas": null,
      "grid_template_columns": null,
      "grid_template_rows": null,
      "height": null,
      "justify_content": null,
      "justify_items": null,
      "left": null,
      "margin": null,
      "max_height": null,
      "max_width": null,
      "min_height": null,
      "min_width": null,
      "object_fit": null,
      "object_position": null,
      "order": null,
      "overflow": null,
      "overflow_x": null,
      "overflow_y": null,
      "padding": null,
      "right": null,
      "top": null,
      "visibility": null,
      "width": null
     }
    },
    "2677807160834decaddcf85dcabdfe60": {
     "model_module": "@jupyter-widgets/base",
     "model_name": "LayoutModel",
     "state": {
      "_model_module": "@jupyter-widgets/base",
      "_model_module_version": "1.2.0",
      "_model_name": "LayoutModel",
      "_view_count": null,
      "_view_module": "@jupyter-widgets/base",
      "_view_module_version": "1.2.0",
      "_view_name": "LayoutView",
      "align_content": null,
      "align_items": null,
      "align_self": null,
      "border": null,
      "bottom": null,
      "display": null,
      "flex": null,
      "flex_flow": null,
      "grid_area": null,
      "grid_auto_columns": null,
      "grid_auto_flow": null,
      "grid_auto_rows": null,
      "grid_column": null,
      "grid_gap": null,
      "grid_row": null,
      "grid_template_areas": null,
      "grid_template_columns": null,
      "grid_template_rows": null,
      "height": null,
      "justify_content": null,
      "justify_items": null,
      "left": null,
      "margin": null,
      "max_height": null,
      "max_width": null,
      "min_height": null,
      "min_width": null,
      "object_fit": null,
      "object_position": null,
      "order": null,
      "overflow": null,
      "overflow_x": null,
      "overflow_y": null,
      "padding": null,
      "right": null,
      "top": null,
      "visibility": null,
      "width": null
     }
    },
    "28e646b8fa324c27abc4a7da94aa9b2e": {
     "model_module": "@jupyter-widgets/controls",
     "model_name": "HBoxModel",
     "state": {
      "_dom_classes": [],
      "_model_module": "@jupyter-widgets/controls",
      "_model_module_version": "1.5.0",
      "_model_name": "HBoxModel",
      "_view_count": null,
      "_view_module": "@jupyter-widgets/controls",
      "_view_module_version": "1.5.0",
      "_view_name": "HBoxView",
      "box_style": "",
      "children": [
       "IPY_MODEL_65a7797edc194c0a96bd2a2bd902e16c",
       "IPY_MODEL_bcdea7a7a8eb4a74adc7feb3209f034c"
      ],
      "layout": "IPY_MODEL_4ef54103581440d5895177ea35e15c42"
     }
    },
    "2e0c37a96d0448dfaf61537f4748b9ee": {
     "model_module": "@jupyter-widgets/base",
     "model_name": "LayoutModel",
     "state": {
      "_model_module": "@jupyter-widgets/base",
      "_model_module_version": "1.2.0",
      "_model_name": "LayoutModel",
      "_view_count": null,
      "_view_module": "@jupyter-widgets/base",
      "_view_module_version": "1.2.0",
      "_view_name": "LayoutView",
      "align_content": null,
      "align_items": null,
      "align_self": null,
      "border": null,
      "bottom": null,
      "display": null,
      "flex": null,
      "flex_flow": null,
      "grid_area": null,
      "grid_auto_columns": null,
      "grid_auto_flow": null,
      "grid_auto_rows": null,
      "grid_column": null,
      "grid_gap": null,
      "grid_row": null,
      "grid_template_areas": null,
      "grid_template_columns": null,
      "grid_template_rows": null,
      "height": null,
      "justify_content": null,
      "justify_items": null,
      "left": null,
      "margin": null,
      "max_height": null,
      "max_width": null,
      "min_height": null,
      "min_width": null,
      "object_fit": null,
      "object_position": null,
      "order": null,
      "overflow": null,
      "overflow_x": null,
      "overflow_y": null,
      "padding": null,
      "right": null,
      "top": null,
      "visibility": null,
      "width": null
     }
    },
    "310fb1482c3a4d2fbef86cbe052a429f": {
     "model_module": "@jupyter-widgets/controls",
     "model_name": "DescriptionStyleModel",
     "state": {
      "_model_module": "@jupyter-widgets/controls",
      "_model_module_version": "1.5.0",
      "_model_name": "DescriptionStyleModel",
      "_view_count": null,
      "_view_module": "@jupyter-widgets/base",
      "_view_module_version": "1.2.0",
      "_view_name": "StyleView",
      "description_width": ""
     }
    },
    "36831bd9c83d43f98f2ea9c9dce59032": {
     "model_module": "@jupyter-widgets/controls",
     "model_name": "FloatProgressModel",
     "state": {
      "_dom_classes": [],
      "_model_module": "@jupyter-widgets/controls",
      "_model_module_version": "1.5.0",
      "_model_name": "FloatProgressModel",
      "_view_count": null,
      "_view_module": "@jupyter-widgets/controls",
      "_view_module_version": "1.5.0",
      "_view_name": "ProgressView",
      "bar_style": "success",
      "description": "Dl Completed...: 100%",
      "description_tooltip": null,
      "layout": "IPY_MODEL_2677807160834decaddcf85dcabdfe60",
      "max": 1,
      "min": 0,
      "orientation": "horizontal",
      "style": "IPY_MODEL_4aad733d48374299a1152c1d9aec13ce",
      "value": 1
     }
    },
    "3fed3f54ad594979b7f71161624042b7": {
     "model_module": "@jupyter-widgets/controls",
     "model_name": "DescriptionStyleModel",
     "state": {
      "_model_module": "@jupyter-widgets/controls",
      "_model_module_version": "1.5.0",
      "_model_name": "DescriptionStyleModel",
      "_view_count": null,
      "_view_module": "@jupyter-widgets/base",
      "_view_module_version": "1.2.0",
      "_view_name": "StyleView",
      "description_width": ""
     }
    },
    "433e7c20a3924ae8a547b43c5b697fa8": {
     "model_module": "@jupyter-widgets/controls",
     "model_name": "HTMLModel",
     "state": {
      "_dom_classes": [],
      "_model_module": "@jupyter-widgets/controls",
      "_model_module_version": "1.5.0",
      "_model_name": "HTMLModel",
      "_view_count": null,
      "_view_module": "@jupyter-widgets/controls",
      "_view_module_version": "1.5.0",
      "_view_name": "HTMLView",
      "description": "",
      "description_tooltip": null,
      "layout": "IPY_MODEL_c02f64e2c14b46d2b36343ba025ef2d9",
      "placeholder": "​",
      "style": "IPY_MODEL_47b52df01f704acf938136fe9795ca43",
      "value": " 32799/50000 [00:00&lt;00:00, 81468.59 examples/s]"
     }
    },
    "468594cc68e34770906859dd1324d402": {
     "model_module": "@jupyter-widgets/base",
     "model_name": "LayoutModel",
     "state": {
      "_model_module": "@jupyter-widgets/base",
      "_model_module_version": "1.2.0",
      "_model_name": "LayoutModel",
      "_view_count": null,
      "_view_module": "@jupyter-widgets/base",
      "_view_module_version": "1.2.0",
      "_view_name": "LayoutView",
      "align_content": null,
      "align_items": null,
      "align_self": null,
      "border": null,
      "bottom": null,
      "display": null,
      "flex": null,
      "flex_flow": null,
      "grid_area": null,
      "grid_auto_columns": null,
      "grid_auto_flow": null,
      "grid_auto_rows": null,
      "grid_column": null,
      "grid_gap": null,
      "grid_row": null,
      "grid_template_areas": null,
      "grid_template_columns": null,
      "grid_template_rows": null,
      "height": null,
      "justify_content": null,
      "justify_items": null,
      "left": null,
      "margin": null,
      "max_height": null,
      "max_width": null,
      "min_height": null,
      "min_width": null,
      "object_fit": null,
      "object_position": null,
      "order": null,
      "overflow": null,
      "overflow_x": null,
      "overflow_y": null,
      "padding": null,
      "right": null,
      "top": null,
      "visibility": null,
      "width": null
     }
    },
    "47b52df01f704acf938136fe9795ca43": {
     "model_module": "@jupyter-widgets/controls",
     "model_name": "DescriptionStyleModel",
     "state": {
      "_model_module": "@jupyter-widgets/controls",
      "_model_module_version": "1.5.0",
      "_model_name": "DescriptionStyleModel",
      "_view_count": null,
      "_view_module": "@jupyter-widgets/base",
      "_view_module_version": "1.2.0",
      "_view_name": "StyleView",
      "description_width": ""
     }
    },
    "4aad733d48374299a1152c1d9aec13ce": {
     "model_module": "@jupyter-widgets/controls",
     "model_name": "ProgressStyleModel",
     "state": {
      "_model_module": "@jupyter-widgets/controls",
      "_model_module_version": "1.5.0",
      "_model_name": "ProgressStyleModel",
      "_view_count": null,
      "_view_module": "@jupyter-widgets/base",
      "_view_module_version": "1.2.0",
      "_view_name": "StyleView",
      "bar_color": null,
      "description_width": "initial"
     }
    },
    "4ef54103581440d5895177ea35e15c42": {
     "model_module": "@jupyter-widgets/base",
     "model_name": "LayoutModel",
     "state": {
      "_model_module": "@jupyter-widgets/base",
      "_model_module_version": "1.2.0",
      "_model_name": "LayoutModel",
      "_view_count": null,
      "_view_module": "@jupyter-widgets/base",
      "_view_module_version": "1.2.0",
      "_view_name": "LayoutView",
      "align_content": null,
      "align_items": null,
      "align_self": null,
      "border": null,
      "bottom": null,
      "display": null,
      "flex": null,
      "flex_flow": null,
      "grid_area": null,
      "grid_auto_columns": null,
      "grid_auto_flow": null,
      "grid_auto_rows": null,
      "grid_column": null,
      "grid_gap": null,
      "grid_row": null,
      "grid_template_areas": null,
      "grid_template_columns": null,
      "grid_template_rows": null,
      "height": null,
      "justify_content": null,
      "justify_items": null,
      "left": null,
      "margin": null,
      "max_height": null,
      "max_width": null,
      "min_height": null,
      "min_width": null,
      "object_fit": null,
      "object_position": null,
      "order": null,
      "overflow": null,
      "overflow_x": null,
      "overflow_y": null,
      "padding": null,
      "right": null,
      "top": null,
      "visibility": null,
      "width": null
     }
    },
    "5058ea222cad47b781075d550e499325": {
     "model_module": "@jupyter-widgets/base",
     "model_name": "LayoutModel",
     "state": {
      "_model_module": "@jupyter-widgets/base",
      "_model_module_version": "1.2.0",
      "_model_name": "LayoutModel",
      "_view_count": null,
      "_view_module": "@jupyter-widgets/base",
      "_view_module_version": "1.2.0",
      "_view_name": "LayoutView",
      "align_content": null,
      "align_items": null,
      "align_self": null,
      "border": null,
      "bottom": null,
      "display": null,
      "flex": null,
      "flex_flow": null,
      "grid_area": null,
      "grid_auto_columns": null,
      "grid_auto_flow": null,
      "grid_auto_rows": null,
      "grid_column": null,
      "grid_gap": null,
      "grid_row": null,
      "grid_template_areas": null,
      "grid_template_columns": null,
      "grid_template_rows": null,
      "height": null,
      "justify_content": null,
      "justify_items": null,
      "left": null,
      "margin": null,
      "max_height": null,
      "max_width": null,
      "min_height": null,
      "min_width": null,
      "object_fit": null,
      "object_position": null,
      "order": null,
      "overflow": null,
      "overflow_x": null,
      "overflow_y": null,
      "padding": null,
      "right": null,
      "top": null,
      "visibility": null,
      "width": null
     }
    },
    "510ba64266bf4f0197d19e3854471a47": {
     "model_module": "@jupyter-widgets/controls",
     "model_name": "HBoxModel",
     "state": {
      "_dom_classes": [],
      "_model_module": "@jupyter-widgets/controls",
      "_model_module_version": "1.5.0",
      "_model_name": "HBoxModel",
      "_view_count": null,
      "_view_module": "@jupyter-widgets/controls",
      "_view_module_version": "1.5.0",
      "_view_name": "HBoxView",
      "box_style": "",
      "children": [
       "IPY_MODEL_fe4868ef2d464d2891f7f9882cbc4d09",
       "IPY_MODEL_783439a75cc645f58a4af1ae08ea106c"
      ],
      "layout": "IPY_MODEL_00e395f42af74b66a8a7a0bb4b0674db"
     }
    },
    "54549db5847b421b82eef693869bc691": {
     "model_module": "@jupyter-widgets/controls",
     "model_name": "DescriptionStyleModel",
     "state": {
      "_model_module": "@jupyter-widgets/controls",
      "_model_module_version": "1.5.0",
      "_model_name": "DescriptionStyleModel",
      "_view_count": null,
      "_view_module": "@jupyter-widgets/base",
      "_view_module_version": "1.2.0",
      "_view_name": "StyleView",
      "description_width": ""
     }
    },
    "57826a896aed428e8b68d35ba8452260": {
     "model_module": "@jupyter-widgets/controls",
     "model_name": "FloatProgressModel",
     "state": {
      "_dom_classes": [],
      "_model_module": "@jupyter-widgets/controls",
      "_model_module_version": "1.5.0",
      "_model_name": "FloatProgressModel",
      "_view_count": null,
      "_view_module": "@jupyter-widgets/controls",
      "_view_module_version": "1.5.0",
      "_view_name": "ProgressView",
      "bar_style": "info",
      "description": "",
      "description_tooltip": null,
      "layout": "IPY_MODEL_f9a6622dd5b14649994a70bba6193022",
      "max": 1,
      "min": 0,
      "orientation": "horizontal",
      "style": "IPY_MODEL_d294b97cde9a432d9c76342b9af3be2e",
      "value": 1
     }
    },
    "5f76f00b28ee4403838b8bb9157fed11": {
     "model_module": "@jupyter-widgets/base",
     "model_name": "LayoutModel",
     "state": {
      "_model_module": "@jupyter-widgets/base",
      "_model_module_version": "1.2.0",
      "_model_name": "LayoutModel",
      "_view_count": null,
      "_view_module": "@jupyter-widgets/base",
      "_view_module_version": "1.2.0",
      "_view_name": "LayoutView",
      "align_content": null,
      "align_items": null,
      "align_self": null,
      "border": null,
      "bottom": null,
      "display": null,
      "flex": null,
      "flex_flow": null,
      "grid_area": null,
      "grid_auto_columns": null,
      "grid_auto_flow": null,
      "grid_auto_rows": null,
      "grid_column": null,
      "grid_gap": null,
      "grid_row": null,
      "grid_template_areas": null,
      "grid_template_columns": null,
      "grid_template_rows": null,
      "height": null,
      "justify_content": null,
      "justify_items": null,
      "left": null,
      "margin": null,
      "max_height": null,
      "max_width": null,
      "min_height": null,
      "min_width": null,
      "object_fit": null,
      "object_position": null,
      "order": null,
      "overflow": null,
      "overflow_x": null,
      "overflow_y": null,
      "padding": null,
      "right": null,
      "top": null,
      "visibility": null,
      "width": null
     }
    },
    "65a7797edc194c0a96bd2a2bd902e16c": {
     "model_module": "@jupyter-widgets/controls",
     "model_name": "FloatProgressModel",
     "state": {
      "_dom_classes": [],
      "_model_module": "@jupyter-widgets/controls",
      "_model_module_version": "1.5.0",
      "_model_name": "FloatProgressModel",
      "_view_count": null,
      "_view_module": "@jupyter-widgets/controls",
      "_view_module_version": "1.5.0",
      "_view_name": "ProgressView",
      "bar_style": "danger",
      "description": " 53%",
      "description_tooltip": null,
      "layout": "IPY_MODEL_143a1d7fd93b487993bb81af76e699e6",
      "max": 25000,
      "min": 0,
      "orientation": "horizontal",
      "style": "IPY_MODEL_b7444070b05f41d78a73a98e1c43624c",
      "value": 13358
     }
    },
    "65c0354ca83d422196d61e54d2f660ea": {
     "model_module": "@jupyter-widgets/controls",
     "model_name": "ProgressStyleModel",
     "state": {
      "_model_module": "@jupyter-widgets/controls",
      "_model_module_version": "1.5.0",
      "_model_name": "ProgressStyleModel",
      "_view_count": null,
      "_view_module": "@jupyter-widgets/base",
      "_view_module_version": "1.2.0",
      "_view_name": "StyleView",
      "bar_color": null,
      "description_width": "initial"
     }
    },
    "6a95ae8ddb4f474cab645bee1e961eb9": {
     "model_module": "@jupyter-widgets/base",
     "model_name": "LayoutModel",
     "state": {
      "_model_module": "@jupyter-widgets/base",
      "_model_module_version": "1.2.0",
      "_model_name": "LayoutModel",
      "_view_count": null,
      "_view_module": "@jupyter-widgets/base",
      "_view_module_version": "1.2.0",
      "_view_name": "LayoutView",
      "align_content": null,
      "align_items": null,
      "align_self": null,
      "border": null,
      "bottom": null,
      "display": null,
      "flex": null,
      "flex_flow": null,
      "grid_area": null,
      "grid_auto_columns": null,
      "grid_auto_flow": null,
      "grid_auto_rows": null,
      "grid_column": null,
      "grid_gap": null,
      "grid_row": null,
      "grid_template_areas": null,
      "grid_template_columns": null,
      "grid_template_rows": null,
      "height": null,
      "justify_content": null,
      "justify_items": null,
      "left": null,
      "margin": null,
      "max_height": null,
      "max_width": null,
      "min_height": null,
      "min_width": null,
      "object_fit": null,
      "object_position": null,
      "order": null,
      "overflow": null,
      "overflow_x": null,
      "overflow_y": null,
      "padding": null,
      "right": null,
      "top": null,
      "visibility": null,
      "width": null
     }
    },
    "736f9aa600564801bb69c7afdb75e281": {
     "model_module": "@jupyter-widgets/base",
     "model_name": "LayoutModel",
     "state": {
      "_model_module": "@jupyter-widgets/base",
      "_model_module_version": "1.2.0",
      "_model_name": "LayoutModel",
      "_view_count": null,
      "_view_module": "@jupyter-widgets/base",
      "_view_module_version": "1.2.0",
      "_view_name": "LayoutView",
      "align_content": null,
      "align_items": null,
      "align_self": null,
      "border": null,
      "bottom": null,
      "display": null,
      "flex": null,
      "flex_flow": null,
      "grid_area": null,
      "grid_auto_columns": null,
      "grid_auto_flow": null,
      "grid_auto_rows": null,
      "grid_column": null,
      "grid_gap": null,
      "grid_row": null,
      "grid_template_areas": null,
      "grid_template_columns": null,
      "grid_template_rows": null,
      "height": null,
      "justify_content": null,
      "justify_items": null,
      "left": null,
      "margin": null,
      "max_height": null,
      "max_width": null,
      "min_height": null,
      "min_width": null,
      "object_fit": null,
      "object_position": null,
      "order": null,
      "overflow": null,
      "overflow_x": null,
      "overflow_y": null,
      "padding": null,
      "right": null,
      "top": null,
      "visibility": null,
      "width": null
     }
    },
    "783439a75cc645f58a4af1ae08ea106c": {
     "model_module": "@jupyter-widgets/controls",
     "model_name": "HTMLModel",
     "state": {
      "_dom_classes": [],
      "_model_module": "@jupyter-widgets/controls",
      "_model_module_version": "1.5.0",
      "_model_name": "HTMLModel",
      "_view_count": null,
      "_view_module": "@jupyter-widgets/controls",
      "_view_module_version": "1.5.0",
      "_view_name": "HTMLView",
      "description": "",
      "description_tooltip": null,
      "layout": "IPY_MODEL_1f3939a7e75e4ce6a53e45210a7d38ea",
      "placeholder": "​",
      "style": "IPY_MODEL_3fed3f54ad594979b7f71161624042b7",
      "value": " 25000/0 [00:13&lt;00:00, 3537.22 examples/s]"
     }
    },
    "7ae9db2d7f3946dd9f907fbe87748939": {
     "model_module": "@jupyter-widgets/base",
     "model_name": "LayoutModel",
     "state": {
      "_model_module": "@jupyter-widgets/base",
      "_model_module_version": "1.2.0",
      "_model_name": "LayoutModel",
      "_view_count": null,
      "_view_module": "@jupyter-widgets/base",
      "_view_module_version": "1.2.0",
      "_view_name": "LayoutView",
      "align_content": null,
      "align_items": null,
      "align_self": null,
      "border": null,
      "bottom": null,
      "display": null,
      "flex": null,
      "flex_flow": null,
      "grid_area": null,
      "grid_auto_columns": null,
      "grid_auto_flow": null,
      "grid_auto_rows": null,
      "grid_column": null,
      "grid_gap": null,
      "grid_row": null,
      "grid_template_areas": null,
      "grid_template_columns": null,
      "grid_template_rows": null,
      "height": null,
      "justify_content": null,
      "justify_items": null,
      "left": null,
      "margin": null,
      "max_height": null,
      "max_width": null,
      "min_height": null,
      "min_width": null,
      "object_fit": null,
      "object_position": null,
      "order": null,
      "overflow": null,
      "overflow_x": null,
      "overflow_y": null,
      "padding": null,
      "right": null,
      "top": null,
      "visibility": null,
      "width": null
     }
    },
    "7b35e7c42f1a4e00820c80566afdfad1": {
     "model_module": "@jupyter-widgets/controls",
     "model_name": "HBoxModel",
     "state": {
      "_dom_classes": [],
      "_model_module": "@jupyter-widgets/controls",
      "_model_module_version": "1.5.0",
      "_model_name": "HBoxModel",
      "_view_count": null,
      "_view_module": "@jupyter-widgets/controls",
      "_view_module_version": "1.5.0",
      "_view_name": "HBoxView",
      "box_style": "",
      "children": [
       "IPY_MODEL_f0a11174ebc2419080c8b5e8e20ef22e",
       "IPY_MODEL_433e7c20a3924ae8a547b43c5b697fa8"
      ],
      "layout": "IPY_MODEL_0b57e2596a484338883f037fb8bfe56a"
     }
    },
    "859ec49ed8634abb98232b612a99d486": {
     "model_module": "@jupyter-widgets/controls",
     "model_name": "HBoxModel",
     "state": {
      "_dom_classes": [],
      "_model_module": "@jupyter-widgets/controls",
      "_model_module_version": "1.5.0",
      "_model_name": "HBoxModel",
      "_view_count": null,
      "_view_module": "@jupyter-widgets/controls",
      "_view_module_version": "1.5.0",
      "_view_name": "HBoxView",
      "box_style": "",
      "children": [
       "IPY_MODEL_57826a896aed428e8b68d35ba8452260",
       "IPY_MODEL_a083d0554fe44ce5ba24742359eae535"
      ],
      "layout": "IPY_MODEL_ec26a614d7c24cab8cf68904a9138c80"
     }
    },
    "86fb6d34375b463dad724b3df33c6e89": {
     "model_module": "@jupyter-widgets/controls",
     "model_name": "FloatProgressModel",
     "state": {
      "_dom_classes": [],
      "_model_module": "@jupyter-widgets/controls",
      "_model_module_version": "1.5.0",
      "_model_name": "FloatProgressModel",
      "_view_count": null,
      "_view_module": "@jupyter-widgets/controls",
      "_view_module_version": "1.5.0",
      "_view_name": "ProgressView",
      "bar_style": "success",
      "description": "Dl Size...: 100%",
      "description_tooltip": null,
      "layout": "IPY_MODEL_5058ea222cad47b781075d550e499325",
      "max": 1,
      "min": 0,
      "orientation": "horizontal",
      "style": "IPY_MODEL_0deee575486f4fa8806c18e95fdc860d",
      "value": 1
     }
    },
    "8afaef2a9be54f7d9e840d0d6a7b5285": {
     "model_module": "@jupyter-widgets/base",
     "model_name": "LayoutModel",
     "state": {
      "_model_module": "@jupyter-widgets/base",
      "_model_module_version": "1.2.0",
      "_model_name": "LayoutModel",
      "_view_count": null,
      "_view_module": "@jupyter-widgets/base",
      "_view_module_version": "1.2.0",
      "_view_name": "LayoutView",
      "align_content": null,
      "align_items": null,
      "align_self": null,
      "border": null,
      "bottom": null,
      "display": null,
      "flex": null,
      "flex_flow": null,
      "grid_area": null,
      "grid_auto_columns": null,
      "grid_auto_flow": null,
      "grid_auto_rows": null,
      "grid_column": null,
      "grid_gap": null,
      "grid_row": null,
      "grid_template_areas": null,
      "grid_template_columns": null,
      "grid_template_rows": null,
      "height": null,
      "justify_content": null,
      "justify_items": null,
      "left": null,
      "margin": null,
      "max_height": null,
      "max_width": null,
      "min_height": null,
      "min_width": null,
      "object_fit": null,
      "object_position": null,
      "order": null,
      "overflow": null,
      "overflow_x": null,
      "overflow_y": null,
      "padding": null,
      "right": null,
      "top": null,
      "visibility": null,
      "width": null
     }
    },
    "8dfc8513425f4812b83a80a1deceaa6d": {
     "model_module": "@jupyter-widgets/controls",
     "model_name": "DescriptionStyleModel",
     "state": {
      "_model_module": "@jupyter-widgets/controls",
      "_model_module_version": "1.5.0",
      "_model_name": "DescriptionStyleModel",
      "_view_count": null,
      "_view_module": "@jupyter-widgets/base",
      "_view_module_version": "1.2.0",
      "_view_name": "StyleView",
      "description_width": ""
     }
    },
    "96987c93d81044429e6cd7b41ac92473": {
     "model_module": "@jupyter-widgets/controls",
     "model_name": "HBoxModel",
     "state": {
      "_dom_classes": [],
      "_model_module": "@jupyter-widgets/controls",
      "_model_module_version": "1.5.0",
      "_model_name": "HBoxModel",
      "_view_count": null,
      "_view_module": "@jupyter-widgets/controls",
      "_view_module_version": "1.5.0",
      "_view_name": "HBoxView",
      "box_style": "",
      "children": [
       "IPY_MODEL_86fb6d34375b463dad724b3df33c6e89",
       "IPY_MODEL_ea08ddc65b2f4ea59c4d6414b9b9beae"
      ],
      "layout": "IPY_MODEL_5f76f00b28ee4403838b8bb9157fed11"
     }
    },
    "a083d0554fe44ce5ba24742359eae535": {
     "model_module": "@jupyter-widgets/controls",
     "model_name": "HTMLModel",
     "state": {
      "_dom_classes": [],
      "_model_module": "@jupyter-widgets/controls",
      "_model_module_version": "1.5.0",
      "_model_name": "HTMLModel",
      "_view_count": null,
      "_view_module": "@jupyter-widgets/controls",
      "_view_module_version": "1.5.0",
      "_view_name": "HTMLView",
      "description": "",
      "description_tooltip": null,
      "layout": "IPY_MODEL_468594cc68e34770906859dd1324d402",
      "placeholder": "​",
      "style": "IPY_MODEL_310fb1482c3a4d2fbef86cbe052a429f",
      "value": " 25000/0 [00:13&lt;00:00, 3591.53 examples/s]"
     }
    },
    "a534a3b11d394cc380aa648799008e65": {
     "model_module": "@jupyter-widgets/base",
     "model_name": "LayoutModel",
     "state": {
      "_model_module": "@jupyter-widgets/base",
      "_model_module_version": "1.2.0",
      "_model_name": "LayoutModel",
      "_view_count": null,
      "_view_module": "@jupyter-widgets/base",
      "_view_module_version": "1.2.0",
      "_view_name": "LayoutView",
      "align_content": null,
      "align_items": null,
      "align_self": null,
      "border": null,
      "bottom": null,
      "display": null,
      "flex": null,
      "flex_flow": null,
      "grid_area": null,
      "grid_auto_columns": null,
      "grid_auto_flow": null,
      "grid_auto_rows": null,
      "grid_column": null,
      "grid_gap": null,
      "grid_row": null,
      "grid_template_areas": null,
      "grid_template_columns": null,
      "grid_template_rows": null,
      "height": null,
      "justify_content": null,
      "justify_items": null,
      "left": null,
      "margin": null,
      "max_height": null,
      "max_width": null,
      "min_height": null,
      "min_width": null,
      "object_fit": null,
      "object_position": null,
      "order": null,
      "overflow": null,
      "overflow_x": null,
      "overflow_y": null,
      "padding": null,
      "right": null,
      "top": null,
      "visibility": null,
      "width": null
     }
    },
    "a9e4dcdaf5f543a88b29828eb9be4b40": {
     "model_module": "@jupyter-widgets/controls",
     "model_name": "DescriptionStyleModel",
     "state": {
      "_model_module": "@jupyter-widgets/controls",
      "_model_module_version": "1.5.0",
      "_model_name": "DescriptionStyleModel",
      "_view_count": null,
      "_view_module": "@jupyter-widgets/base",
      "_view_module_version": "1.2.0",
      "_view_name": "StyleView",
      "description_width": ""
     }
    },
    "b31a2ff476a743ff8e05aca22d4fd3aa": {
     "model_module": "@jupyter-widgets/controls",
     "model_name": "FloatProgressModel",
     "state": {
      "_dom_classes": [],
      "_model_module": "@jupyter-widgets/controls",
      "_model_module_version": "1.5.0",
      "_model_name": "FloatProgressModel",
      "_view_count": null,
      "_view_module": "@jupyter-widgets/controls",
      "_view_module_version": "1.5.0",
      "_view_name": "ProgressView",
      "bar_style": "danger",
      "description": " 55%",
      "description_tooltip": null,
      "layout": "IPY_MODEL_2e0c37a96d0448dfaf61537f4748b9ee",
      "max": 25000,
      "min": 0,
      "orientation": "horizontal",
      "style": "IPY_MODEL_65c0354ca83d422196d61e54d2f660ea",
      "value": 13633
     }
    },
    "b328cc3bee394384a2d3cd4aeb621ae5": {
     "model_module": "@jupyter-widgets/controls",
     "model_name": "HTMLModel",
     "state": {
      "_dom_classes": [],
      "_model_module": "@jupyter-widgets/controls",
      "_model_module_version": "1.5.0",
      "_model_name": "HTMLModel",
      "_view_count": null,
      "_view_module": "@jupyter-widgets/controls",
      "_view_module_version": "1.5.0",
      "_view_name": "HTMLView",
      "description": "",
      "description_tooltip": null,
      "layout": "IPY_MODEL_8afaef2a9be54f7d9e840d0d6a7b5285",
      "placeholder": "​",
      "style": "IPY_MODEL_c7d4e20844a5465a9af21e33d50f6e46",
      "value": " 50000/0 [00:18&lt;00:00, 3329.02 examples/s]"
     }
    },
    "b7444070b05f41d78a73a98e1c43624c": {
     "model_module": "@jupyter-widgets/controls",
     "model_name": "ProgressStyleModel",
     "state": {
      "_model_module": "@jupyter-widgets/controls",
      "_model_module_version": "1.5.0",
      "_model_name": "ProgressStyleModel",
      "_view_count": null,
      "_view_module": "@jupyter-widgets/base",
      "_view_module_version": "1.2.0",
      "_view_name": "StyleView",
      "bar_color": null,
      "description_width": "initial"
     }
    },
    "b7d6e062dd2848e0b943bfb55627a8d6": {
     "model_module": "@jupyter-widgets/base",
     "model_name": "LayoutModel",
     "state": {
      "_model_module": "@jupyter-widgets/base",
      "_model_module_version": "1.2.0",
      "_model_name": "LayoutModel",
      "_view_count": null,
      "_view_module": "@jupyter-widgets/base",
      "_view_module_version": "1.2.0",
      "_view_name": "LayoutView",
      "align_content": null,
      "align_items": null,
      "align_self": null,
      "border": null,
      "bottom": null,
      "display": null,
      "flex": null,
      "flex_flow": null,
      "grid_area": null,
      "grid_auto_columns": null,
      "grid_auto_flow": null,
      "grid_auto_rows": null,
      "grid_column": null,
      "grid_gap": null,
      "grid_row": null,
      "grid_template_areas": null,
      "grid_template_columns": null,
      "grid_template_rows": null,
      "height": null,
      "justify_content": null,
      "justify_items": null,
      "left": null,
      "margin": null,
      "max_height": null,
      "max_width": null,
      "min_height": null,
      "min_width": null,
      "object_fit": null,
      "object_position": null,
      "order": null,
      "overflow": null,
      "overflow_x": null,
      "overflow_y": null,
      "padding": null,
      "right": null,
      "top": null,
      "visibility": null,
      "width": null
     }
    },
    "bcdea7a7a8eb4a74adc7feb3209f034c": {
     "model_module": "@jupyter-widgets/controls",
     "model_name": "HTMLModel",
     "state": {
      "_dom_classes": [],
      "_model_module": "@jupyter-widgets/controls",
      "_model_module_version": "1.5.0",
      "_model_name": "HTMLModel",
      "_view_count": null,
      "_view_module": "@jupyter-widgets/controls",
      "_view_module_version": "1.5.0",
      "_view_name": "HTMLView",
      "description": "",
      "description_tooltip": null,
      "layout": "IPY_MODEL_6a95ae8ddb4f474cab645bee1e961eb9",
      "placeholder": "​",
      "style": "IPY_MODEL_8dfc8513425f4812b83a80a1deceaa6d",
      "value": " 13358/25000 [00:00&lt;00:00, 133579.81 examples/s]"
     }
    },
    "c02f64e2c14b46d2b36343ba025ef2d9": {
     "model_module": "@jupyter-widgets/base",
     "model_name": "LayoutModel",
     "state": {
      "_model_module": "@jupyter-widgets/base",
      "_model_module_version": "1.2.0",
      "_model_name": "LayoutModel",
      "_view_count": null,
      "_view_module": "@jupyter-widgets/base",
      "_view_module_version": "1.2.0",
      "_view_name": "LayoutView",
      "align_content": null,
      "align_items": null,
      "align_self": null,
      "border": null,
      "bottom": null,
      "display": null,
      "flex": null,
      "flex_flow": null,
      "grid_area": null,
      "grid_auto_columns": null,
      "grid_auto_flow": null,
      "grid_auto_rows": null,
      "grid_column": null,
      "grid_gap": null,
      "grid_row": null,
      "grid_template_areas": null,
      "grid_template_columns": null,
      "grid_template_rows": null,
      "height": null,
      "justify_content": null,
      "justify_items": null,
      "left": null,
      "margin": null,
      "max_height": null,
      "max_width": null,
      "min_height": null,
      "min_width": null,
      "object_fit": null,
      "object_position": null,
      "order": null,
      "overflow": null,
      "overflow_x": null,
      "overflow_y": null,
      "padding": null,
      "right": null,
      "top": null,
      "visibility": null,
      "width": null
     }
    },
    "c26d3e218db643439bb1ccb54b03fe88": {
     "model_module": "@jupyter-widgets/base",
     "model_name": "LayoutModel",
     "state": {
      "_model_module": "@jupyter-widgets/base",
      "_model_module_version": "1.2.0",
      "_model_name": "LayoutModel",
      "_view_count": null,
      "_view_module": "@jupyter-widgets/base",
      "_view_module_version": "1.2.0",
      "_view_name": "LayoutView",
      "align_content": null,
      "align_items": null,
      "align_self": null,
      "border": null,
      "bottom": null,
      "display": null,
      "flex": null,
      "flex_flow": null,
      "grid_area": null,
      "grid_auto_columns": null,
      "grid_auto_flow": null,
      "grid_auto_rows": null,
      "grid_column": null,
      "grid_gap": null,
      "grid_row": null,
      "grid_template_areas": null,
      "grid_template_columns": null,
      "grid_template_rows": null,
      "height": null,
      "justify_content": null,
      "justify_items": null,
      "left": null,
      "margin": null,
      "max_height": null,
      "max_width": null,
      "min_height": null,
      "min_width": null,
      "object_fit": null,
      "object_position": null,
      "order": null,
      "overflow": null,
      "overflow_x": null,
      "overflow_y": null,
      "padding": null,
      "right": null,
      "top": null,
      "visibility": null,
      "width": null
     }
    },
    "c733573ff0c344fd9030605e0005f616": {
     "model_module": "@jupyter-widgets/base",
     "model_name": "LayoutModel",
     "state": {
      "_model_module": "@jupyter-widgets/base",
      "_model_module_version": "1.2.0",
      "_model_name": "LayoutModel",
      "_view_count": null,
      "_view_module": "@jupyter-widgets/base",
      "_view_module_version": "1.2.0",
      "_view_name": "LayoutView",
      "align_content": null,
      "align_items": null,
      "align_self": null,
      "border": null,
      "bottom": null,
      "display": null,
      "flex": null,
      "flex_flow": null,
      "grid_area": null,
      "grid_auto_columns": null,
      "grid_auto_flow": null,
      "grid_auto_rows": null,
      "grid_column": null,
      "grid_gap": null,
      "grid_row": null,
      "grid_template_areas": null,
      "grid_template_columns": null,
      "grid_template_rows": null,
      "height": null,
      "justify_content": null,
      "justify_items": null,
      "left": null,
      "margin": null,
      "max_height": null,
      "max_width": null,
      "min_height": null,
      "min_width": null,
      "object_fit": null,
      "object_position": null,
      "order": null,
      "overflow": null,
      "overflow_x": null,
      "overflow_y": null,
      "padding": null,
      "right": null,
      "top": null,
      "visibility": null,
      "width": null
     }
    },
    "c7d4e20844a5465a9af21e33d50f6e46": {
     "model_module": "@jupyter-widgets/controls",
     "model_name": "DescriptionStyleModel",
     "state": {
      "_model_module": "@jupyter-widgets/controls",
      "_model_module_version": "1.5.0",
      "_model_name": "DescriptionStyleModel",
      "_view_count": null,
      "_view_module": "@jupyter-widgets/base",
      "_view_module_version": "1.2.0",
      "_view_name": "StyleView",
      "description_width": ""
     }
    },
    "cbd018465acd4744b4dd8c5bcf607351": {
     "model_module": "@jupyter-widgets/controls",
     "model_name": "FloatProgressModel",
     "state": {
      "_dom_classes": [],
      "_model_module": "@jupyter-widgets/controls",
      "_model_module_version": "1.5.0",
      "_model_name": "FloatProgressModel",
      "_view_count": null,
      "_view_module": "@jupyter-widgets/controls",
      "_view_module_version": "1.5.0",
      "_view_name": "ProgressView",
      "bar_style": "info",
      "description": "",
      "description_tooltip": null,
      "layout": "IPY_MODEL_f75d9d482b844c8089c20134f4d2e004",
      "max": 1,
      "min": 0,
      "orientation": "horizontal",
      "style": "IPY_MODEL_e0ba46a58d424b329f3b1a7326d12541",
      "value": 1
     }
    },
    "cd26055c54384a5998a3a7167c1222d3": {
     "model_module": "@jupyter-widgets/controls",
     "model_name": "ProgressStyleModel",
     "state": {
      "_model_module": "@jupyter-widgets/controls",
      "_model_module_version": "1.5.0",
      "_model_name": "ProgressStyleModel",
      "_view_count": null,
      "_view_module": "@jupyter-widgets/base",
      "_view_module_version": "1.2.0",
      "_view_name": "StyleView",
      "bar_color": null,
      "description_width": "initial"
     }
    },
    "d294b97cde9a432d9c76342b9af3be2e": {
     "model_module": "@jupyter-widgets/controls",
     "model_name": "ProgressStyleModel",
     "state": {
      "_model_module": "@jupyter-widgets/controls",
      "_model_module_version": "1.5.0",
      "_model_name": "ProgressStyleModel",
      "_view_count": null,
      "_view_module": "@jupyter-widgets/base",
      "_view_module_version": "1.2.0",
      "_view_name": "StyleView",
      "bar_color": null,
      "description_width": "initial"
     }
    },
    "d92fdf4205ce40d5adfe93dd1a8ecb3d": {
     "model_module": "@jupyter-widgets/controls",
     "model_name": "ProgressStyleModel",
     "state": {
      "_model_module": "@jupyter-widgets/controls",
      "_model_module_version": "1.5.0",
      "_model_name": "ProgressStyleModel",
      "_view_count": null,
      "_view_module": "@jupyter-widgets/base",
      "_view_module_version": "1.2.0",
      "_view_name": "StyleView",
      "bar_color": null,
      "description_width": "initial"
     }
    },
    "e0ba46a58d424b329f3b1a7326d12541": {
     "model_module": "@jupyter-widgets/controls",
     "model_name": "ProgressStyleModel",
     "state": {
      "_model_module": "@jupyter-widgets/controls",
      "_model_module_version": "1.5.0",
      "_model_name": "ProgressStyleModel",
      "_view_count": null,
      "_view_module": "@jupyter-widgets/base",
      "_view_module_version": "1.2.0",
      "_view_name": "StyleView",
      "bar_color": null,
      "description_width": "initial"
     }
    },
    "ea08ddc65b2f4ea59c4d6414b9b9beae": {
     "model_module": "@jupyter-widgets/controls",
     "model_name": "HTMLModel",
     "state": {
      "_dom_classes": [],
      "_model_module": "@jupyter-widgets/controls",
      "_model_module_version": "1.5.0",
      "_model_name": "HTMLModel",
      "_view_count": null,
      "_view_module": "@jupyter-widgets/controls",
      "_view_module_version": "1.5.0",
      "_view_name": "HTMLView",
      "description": "",
      "description_tooltip": null,
      "layout": "IPY_MODEL_736f9aa600564801bb69c7afdb75e281",
      "placeholder": "​",
      "style": "IPY_MODEL_54549db5847b421b82eef693869bc691",
      "value": " 80/80 [00:03&lt;00:00, 20.02 MiB/s]"
     }
    },
    "ec26a614d7c24cab8cf68904a9138c80": {
     "model_module": "@jupyter-widgets/base",
     "model_name": "LayoutModel",
     "state": {
      "_model_module": "@jupyter-widgets/base",
      "_model_module_version": "1.2.0",
      "_model_name": "LayoutModel",
      "_view_count": null,
      "_view_module": "@jupyter-widgets/base",
      "_view_module_version": "1.2.0",
      "_view_name": "LayoutView",
      "align_content": null,
      "align_items": null,
      "align_self": null,
      "border": null,
      "bottom": null,
      "display": null,
      "flex": null,
      "flex_flow": null,
      "grid_area": null,
      "grid_auto_columns": null,
      "grid_auto_flow": null,
      "grid_auto_rows": null,
      "grid_column": null,
      "grid_gap": null,
      "grid_row": null,
      "grid_template_areas": null,
      "grid_template_columns": null,
      "grid_template_rows": null,
      "height": null,
      "justify_content": null,
      "justify_items": null,
      "left": null,
      "margin": null,
      "max_height": null,
      "max_width": null,
      "min_height": null,
      "min_width": null,
      "object_fit": null,
      "object_position": null,
      "order": null,
      "overflow": null,
      "overflow_x": null,
      "overflow_y": null,
      "padding": null,
      "right": null,
      "top": null,
      "visibility": null,
      "width": null
     }
    },
    "f0a11174ebc2419080c8b5e8e20ef22e": {
     "model_module": "@jupyter-widgets/controls",
     "model_name": "FloatProgressModel",
     "state": {
      "_dom_classes": [],
      "_model_module": "@jupyter-widgets/controls",
      "_model_module_version": "1.5.0",
      "_model_name": "FloatProgressModel",
      "_view_count": null,
      "_view_module": "@jupyter-widgets/controls",
      "_view_module_version": "1.5.0",
      "_view_name": "ProgressView",
      "bar_style": "danger",
      "description": " 66%",
      "description_tooltip": null,
      "layout": "IPY_MODEL_ff383086bee74a72aa8af2eded8b1160",
      "max": 50000,
      "min": 0,
      "orientation": "horizontal",
      "style": "IPY_MODEL_cd26055c54384a5998a3a7167c1222d3",
      "value": 32799
     }
    },
    "f75d9d482b844c8089c20134f4d2e004": {
     "model_module": "@jupyter-widgets/base",
     "model_name": "LayoutModel",
     "state": {
      "_model_module": "@jupyter-widgets/base",
      "_model_module_version": "1.2.0",
      "_model_name": "LayoutModel",
      "_view_count": null,
      "_view_module": "@jupyter-widgets/base",
      "_view_module_version": "1.2.0",
      "_view_name": "LayoutView",
      "align_content": null,
      "align_items": null,
      "align_self": null,
      "border": null,
      "bottom": null,
      "display": null,
      "flex": null,
      "flex_flow": null,
      "grid_area": null,
      "grid_auto_columns": null,
      "grid_auto_flow": null,
      "grid_auto_rows": null,
      "grid_column": null,
      "grid_gap": null,
      "grid_row": null,
      "grid_template_areas": null,
      "grid_template_columns": null,
      "grid_template_rows": null,
      "height": null,
      "justify_content": null,
      "justify_items": null,
      "left": null,
      "margin": null,
      "max_height": null,
      "max_width": null,
      "min_height": null,
      "min_width": null,
      "object_fit": null,
      "object_position": null,
      "order": null,
      "overflow": null,
      "overflow_x": null,
      "overflow_y": null,
      "padding": null,
      "right": null,
      "top": null,
      "visibility": null,
      "width": null
     }
    },
    "f9a6622dd5b14649994a70bba6193022": {
     "model_module": "@jupyter-widgets/base",
     "model_name": "LayoutModel",
     "state": {
      "_model_module": "@jupyter-widgets/base",
      "_model_module_version": "1.2.0",
      "_model_name": "LayoutModel",
      "_view_count": null,
      "_view_module": "@jupyter-widgets/base",
      "_view_module_version": "1.2.0",
      "_view_name": "LayoutView",
      "align_content": null,
      "align_items": null,
      "align_self": null,
      "border": null,
      "bottom": null,
      "display": null,
      "flex": null,
      "flex_flow": null,
      "grid_area": null,
      "grid_auto_columns": null,
      "grid_auto_flow": null,
      "grid_auto_rows": null,
      "grid_column": null,
      "grid_gap": null,
      "grid_row": null,
      "grid_template_areas": null,
      "grid_template_columns": null,
      "grid_template_rows": null,
      "height": null,
      "justify_content": null,
      "justify_items": null,
      "left": null,
      "margin": null,
      "max_height": null,
      "max_width": null,
      "min_height": null,
      "min_width": null,
      "object_fit": null,
      "object_position": null,
      "order": null,
      "overflow": null,
      "overflow_x": null,
      "overflow_y": null,
      "padding": null,
      "right": null,
      "top": null,
      "visibility": null,
      "width": null
     }
    },
    "fae1f0bb07d44439a343803337e494f8": {
     "model_module": "@jupyter-widgets/controls",
     "model_name": "HBoxModel",
     "state": {
      "_dom_classes": [],
      "_model_module": "@jupyter-widgets/controls",
      "_model_module_version": "1.5.0",
      "_model_name": "HBoxModel",
      "_view_count": null,
      "_view_module": "@jupyter-widgets/controls",
      "_view_module_version": "1.5.0",
      "_view_name": "HBoxView",
      "box_style": "",
      "children": [
       "IPY_MODEL_b31a2ff476a743ff8e05aca22d4fd3aa",
       "IPY_MODEL_05731893282445a7986a40a3c261e214"
      ],
      "layout": "IPY_MODEL_7ae9db2d7f3946dd9f907fbe87748939"
     }
    },
    "fe4868ef2d464d2891f7f9882cbc4d09": {
     "model_module": "@jupyter-widgets/controls",
     "model_name": "FloatProgressModel",
     "state": {
      "_dom_classes": [],
      "_model_module": "@jupyter-widgets/controls",
      "_model_module_version": "1.5.0",
      "_model_name": "FloatProgressModel",
      "_view_count": null,
      "_view_module": "@jupyter-widgets/controls",
      "_view_module_version": "1.5.0",
      "_view_name": "ProgressView",
      "bar_style": "info",
      "description": "",
      "description_tooltip": null,
      "layout": "IPY_MODEL_a534a3b11d394cc380aa648799008e65",
      "max": 1,
      "min": 0,
      "orientation": "horizontal",
      "style": "IPY_MODEL_d92fdf4205ce40d5adfe93dd1a8ecb3d",
      "value": 1
     }
    },
    "ff383086bee74a72aa8af2eded8b1160": {
     "model_module": "@jupyter-widgets/base",
     "model_name": "LayoutModel",
     "state": {
      "_model_module": "@jupyter-widgets/base",
      "_model_module_version": "1.2.0",
      "_model_name": "LayoutModel",
      "_view_count": null,
      "_view_module": "@jupyter-widgets/base",
      "_view_module_version": "1.2.0",
      "_view_name": "LayoutView",
      "align_content": null,
      "align_items": null,
      "align_self": null,
      "border": null,
      "bottom": null,
      "display": null,
      "flex": null,
      "flex_flow": null,
      "grid_area": null,
      "grid_auto_columns": null,
      "grid_auto_flow": null,
      "grid_auto_rows": null,
      "grid_column": null,
      "grid_gap": null,
      "grid_row": null,
      "grid_template_areas": null,
      "grid_template_columns": null,
      "grid_template_rows": null,
      "height": null,
      "justify_content": null,
      "justify_items": null,
      "left": null,
      "margin": null,
      "max_height": null,
      "max_width": null,
      "min_height": null,
      "min_width": null,
      "object_fit": null,
      "object_position": null,
      "order": null,
      "overflow": null,
      "overflow_x": null,
      "overflow_y": null,
      "padding": null,
      "right": null,
      "top": null,
      "visibility": null,
      "width": null
     }
    }
   }
  }
 },
 "nbformat": 4,
 "nbformat_minor": 1
}
